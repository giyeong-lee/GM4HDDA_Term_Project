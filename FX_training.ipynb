{
 "cells": [
  {
   "cell_type": "code",
   "execution_count": 1,
   "id": "62935994",
   "metadata": {
    "ExecuteTime": {
     "end_time": "2022-12-11T15:02:46.124850Z",
     "start_time": "2022-12-11T15:02:46.118848Z"
    }
   },
   "outputs": [],
   "source": [
    "base_dir = './'\n",
    "fig_dir = './figures/'\n",
    "model_dir = './models/'"
   ]
  },
  {
   "cell_type": "code",
   "execution_count": 2,
   "id": "17fb82ef",
   "metadata": {
    "ExecuteTime": {
     "end_time": "2022-12-11T15:02:46.140853Z",
     "start_time": "2022-12-11T15:02:46.125851Z"
    }
   },
   "outputs": [],
   "source": [
    "import os\n",
    "import sys\n",
    "\n",
    "sys.path.insert(0, os.getcwd() + '\\\\src')"
   ]
  },
  {
   "cell_type": "code",
   "execution_count": 3,
   "id": "4fdc1390",
   "metadata": {
    "ExecuteTime": {
     "end_time": "2022-12-11T15:02:46.681975Z",
     "start_time": "2022-12-11T15:02:46.141854Z"
    }
   },
   "outputs": [],
   "source": [
    "import matplotlib.pyplot as plt\n",
    "from tqdm.notebook import trange"
   ]
  },
  {
   "cell_type": "markdown",
   "id": "ed8c5401",
   "metadata": {},
   "source": [
    "---"
   ]
  },
  {
   "cell_type": "code",
   "execution_count": 4,
   "id": "3d123fbf",
   "metadata": {
    "ExecuteTime": {
     "end_time": "2022-12-11T15:02:47.513162Z",
     "start_time": "2022-12-11T15:02:46.683976Z"
    }
   },
   "outputs": [],
   "source": [
    "import torch\n",
    "import torch.nn as nn\n",
    "import torch.nn.functional as F"
   ]
  },
  {
   "cell_type": "code",
   "execution_count": 5,
   "id": "ae5a68cf",
   "metadata": {
    "ExecuteTime": {
     "end_time": "2022-12-11T15:02:47.545169Z",
     "start_time": "2022-12-11T15:02:47.514162Z"
    }
   },
   "outputs": [
    {
     "name": "stdout",
     "output_type": "stream",
     "text": [
      "CUDA available : True\n"
     ]
    }
   ],
   "source": [
    "print('CUDA available :', torch.cuda.is_available())\n",
    "# device = torch.device('cpu')\n",
    "device = torch.device('cuda')"
   ]
  },
  {
   "cell_type": "markdown",
   "id": "088e8739",
   "metadata": {
    "ExecuteTime": {
     "end_time": "2022-11-21T02:21:40.339798Z",
     "start_time": "2022-11-21T02:21:40.325547Z"
    }
   },
   "source": [
    "# Data\n",
    "- USD 제외"
   ]
  },
  {
   "cell_type": "code",
   "execution_count": 6,
   "id": "10193e39",
   "metadata": {
    "ExecuteTime": {
     "end_time": "2022-12-11T15:02:47.561172Z",
     "start_time": "2022-12-11T15:02:47.546169Z"
    }
   },
   "outputs": [],
   "source": [
    "n_timestamps = 5\n",
    "lag = 1\n",
    "\n",
    "data_dir = f'./data/n_timestamps_{n_timestamps}__lag_{lag}/' + 'data_split.pt'\n",
    "\n",
    "data_split = torch.load(data_dir)\n",
    "train_data, train_pos_enc, train_dates = data_split['train'].values()\n",
    "valid_data, valid_pos_enc, valid_dates = data_split['valid'].values()\n",
    "test_data, test_pos_enc, test_dates = data_split['test'].values()\n",
    "\n",
    "# Concat Date Positional Encoding\n",
    "X_train = torch.cat((train_data, train_pos_enc), dim=-1)\n",
    "X_valid = torch.cat((valid_data, valid_pos_enc), dim=-1)\n",
    "X_test = torch.cat((test_data, test_pos_enc), dim=-1)\n",
    "\n",
    "del data_split"
   ]
  },
  {
   "cell_type": "code",
   "execution_count": 7,
   "id": "d555e561",
   "metadata": {
    "ExecuteTime": {
     "end_time": "2022-12-11T15:02:47.577175Z",
     "start_time": "2022-12-11T15:02:47.562172Z"
    }
   },
   "outputs": [
    {
     "name": "stdout",
     "output_type": "stream",
     "text": [
      "Data shape : (*, 5, 36)\n",
      "    - Train : 2002-01-08 ~ 2015-05-07 (3412, 63.99%)\n",
      "    - Valid : 2015-05-08 ~ 2018-09-03 ( 853, 16.00%)\n",
      "    - Test  : 2018-09-04 ~ 2022-10-31 (1067, 20.01%)\n"
     ]
    }
   ],
   "source": [
    "N = X_train.shape[0] + X_valid.shape[0] + X_test.shape[0]\n",
    "_, T, D = X_train.shape\n",
    "print(f'Data shape : (*, {T}, {D})')\n",
    "print(f'    - Train : {train_dates[0]} ~ {train_dates[-1]} ({X_train.__len__():>4d}, {X_train.__len__()/N*100:.2f}%)')\n",
    "print(f'    - Valid : {valid_dates[0]} ~ {valid_dates[-1]} ({X_valid.__len__():>4d}, {X_valid.__len__()/N*100:.2f}%)')\n",
    "print(f'    - Test  : {test_dates[0]} ~ {test_dates[-1]} ({X_test.__len__():>4d}, {X_test.__len__()/N*100:.2f}%)')"
   ]
  },
  {
   "cell_type": "markdown",
   "id": "9f2191b6",
   "metadata": {},
   "source": [
    "# Modules"
   ]
  },
  {
   "cell_type": "code",
   "execution_count": 8,
   "id": "ee1ed6c6",
   "metadata": {
    "ExecuteTime": {
     "end_time": "2022-12-11T15:02:47.609183Z",
     "start_time": "2022-12-11T15:02:47.578176Z"
    }
   },
   "outputs": [],
   "source": [
    "from manifold import *\n",
    "from utils_layer import *"
   ]
  },
  {
   "cell_type": "markdown",
   "id": "d6ab8e54",
   "metadata": {
    "ExecuteTime": {
     "end_time": "2022-12-07T17:07:48.859413Z",
     "start_time": "2022-12-07T17:07:48.703378Z"
    }
   },
   "source": [
    "## Manifolds\n",
    "- Manifolds\n",
    "    - EuclideanSpace('euclidean')\n",
    "    - Hypersphere('sphere')\n",
    "    - PoincareHalfplane('p_plane')\n",
    "    - PoincareBall('p_ball')\n",
    "- Methods\n",
    "    - .forward : output of auxiliary encoder -> local coordinates\n",
    "    - .metric : local coordinates -> Riemannian metric\n",
    "    - .distance : two points in local coordinates -> distance"
   ]
  },
  {
   "cell_type": "markdown",
   "id": "39ef87a1",
   "metadata": {},
   "source": [
    "## Encoder"
   ]
  },
  {
   "cell_type": "code",
   "execution_count": 9,
   "id": "efb6bb0c",
   "metadata": {
    "ExecuteTime": {
     "end_time": "2022-12-11T15:02:47.625186Z",
     "start_time": "2022-12-11T15:02:47.610183Z"
    }
   },
   "outputs": [],
   "source": [
    "from encoder import EncodingLayer"
   ]
  },
  {
   "cell_type": "code",
   "execution_count": 10,
   "id": "c626f1f6",
   "metadata": {
    "ExecuteTime": {
     "end_time": "2022-12-11T15:02:47.641190Z",
     "start_time": "2022-12-11T15:02:47.627187Z"
    }
   },
   "outputs": [],
   "source": [
    "class Encoder(nn.Module):\n",
    "    def __init__(self, dim_data, dim_embedding, target_manifold, \n",
    "                 layer_configs={}, device='cpu'):\n",
    "        super().__init__()\n",
    "        \n",
    "        # Encoding Layer\n",
    "        self.encoding_layer = EncodingLayer(dim_data, dim_embedding, layer_configs)\n",
    "        \n",
    "        # Target Manifold\n",
    "        self.manifold = self._set_target_manifold(target_manifold, dim_embedding)\n",
    "        \n",
    "        # Misc.\n",
    "        self.dim_data = dim_data\n",
    "        self.dim_embedding = dim_embedding\n",
    "        self.layer_configs = layer_configs\n",
    "        \n",
    "        self.device = device\n",
    "        self.to(device)\n",
    "        \n",
    "    def forward(self, x):\n",
    "        local_emb = self.encoding_layer(x.to(self.device))\n",
    "        \n",
    "        return local_emb\n",
    "        \n",
    "    def _set_target_manifold(self, target_manifold, dim_embedding):\n",
    "        manifolds = {'euclidean':EuclideanSpace, \n",
    "                     'sphere':Hypersphere, \n",
    "                     'sphere_sp':HypersphereStereographic, \n",
    "                     'p_plane':PoincareHalfplane\n",
    "                    }\n",
    "        \n",
    "        if target_manifold in manifolds.keys():\n",
    "            return manifolds[target_manifold](dim_embedding)\n",
    "        else:\n",
    "            raise ValueError(f'Unknown value : \"target_manifold={target_manifold}\"\\n    - Consider one of [\"euclidean\", \"sphere\", \"sphere_sp\", \"p_plane\"].')\n",
    "        \n",
    "    def distance(self, x1, x2):\n",
    "        local_coords1 = self.manifold(x1.to(self.device))\n",
    "        local_coords2 = self.manifold(x2.to(self.device))\n",
    "        \n",
    "        return self.manifold.distance(local_coords1, local_coords2)\n",
    "    \n",
    "    def pullback_metric(self, x):\n",
    "        raise NotImplementedError('Method \"pullback_metric\" is not implemented yet.')\n",
    "        \n",
    "        local_coords = self.manifold(x.to(self.device))\n",
    "        J = None\n",
    "    \n",
    "    def get_points_on_manifold(self, x):\n",
    "        local_coords = self.manifold(x.to(self.device))\n",
    "        points = self.manifold.local_to_manifold(local_coords)\n",
    "        \n",
    "        return points"
   ]
  },
  {
   "cell_type": "markdown",
   "id": "94fb029a",
   "metadata": {},
   "source": [
    "# Trainer"
   ]
  },
  {
   "cell_type": "code",
   "execution_count": 11,
   "id": "ae6ceb84",
   "metadata": {
    "ExecuteTime": {
     "end_time": "2022-12-11T15:02:47.657193Z",
     "start_time": "2022-12-11T15:02:47.642190Z"
    }
   },
   "outputs": [],
   "source": [
    "from trainer import Trainer\n",
    "from loss import ContrastiveLoss, TripletLoss"
   ]
  },
  {
   "cell_type": "code",
   "execution_count": 12,
   "id": "1ab2af23",
   "metadata": {
    "ExecuteTime": {
     "end_time": "2022-12-11T15:02:47.673197Z",
     "start_time": "2022-12-11T15:02:47.658194Z"
    }
   },
   "outputs": [],
   "source": [
    "from itertools import product"
   ]
  },
  {
   "cell_type": "code",
   "execution_count": 13,
   "id": "3f78d163",
   "metadata": {
    "ExecuteTime": {
     "end_time": "2022-12-11T15:02:47.689201Z",
     "start_time": "2022-12-11T15:02:47.674197Z"
    }
   },
   "outputs": [],
   "source": [
    "dim_data = (T, D)\n",
    "\n",
    "optim_configs = {'lr':5e-5}\n",
    "layer_configs = {}\n",
    "\n",
    "batch_size = 128\n",
    "n_epochs = 500\n",
    "\n",
    "candidates = list(product(['sphere', 'p_plane', 'euclidean'], \n",
    "                          list(range(20, 40, 4))))\n",
    "\n",
    "os.makedirs(model_dir + '_loss_history', exist_ok=True)\n",
    "os.makedirs(fig_dir, exist_ok=True)"
   ]
  },
  {
   "cell_type": "code",
   "execution_count": 14,
   "id": "8b6c8947",
   "metadata": {
    "ExecuteTime": {
     "end_time": "2022-12-11T17:15:55.070085Z",
     "start_time": "2022-12-11T15:02:47.690201Z"
    }
   },
   "outputs": [
    {
     "name": "stdout",
     "output_type": "stream",
     "text": [
      "target_manifold : sphere , dim_embedding : 20\n"
     ]
    },
    {
     "data": {
      "application/vnd.jupyter.widget-view+json": {
       "model_id": "36ae0bcad28a498f99fd7dcf3f41a129",
       "version_major": 2,
       "version_minor": 0
      },
      "text/plain": [
       "  0%|          | 0/500 [00:00<?, ?it/s]"
      ]
     },
     "metadata": {},
     "output_type": "display_data"
    },
    {
     "name": "stdout",
     "output_type": "stream",
     "text": [
      "target_manifold : sphere , dim_embedding : 24\n"
     ]
    },
    {
     "data": {
      "application/vnd.jupyter.widget-view+json": {
       "model_id": "c732bcc598b04955934ee1f19bb7af93",
       "version_major": 2,
       "version_minor": 0
      },
      "text/plain": [
       "  0%|          | 0/500 [00:00<?, ?it/s]"
      ]
     },
     "metadata": {},
     "output_type": "display_data"
    },
    {
     "name": "stdout",
     "output_type": "stream",
     "text": [
      "target_manifold : sphere , dim_embedding : 28\n"
     ]
    },
    {
     "data": {
      "application/vnd.jupyter.widget-view+json": {
       "model_id": "ead65cd66fca441e85bb1e49ea4eea15",
       "version_major": 2,
       "version_minor": 0
      },
      "text/plain": [
       "  0%|          | 0/500 [00:00<?, ?it/s]"
      ]
     },
     "metadata": {},
     "output_type": "display_data"
    },
    {
     "name": "stdout",
     "output_type": "stream",
     "text": [
      "target_manifold : sphere , dim_embedding : 32\n"
     ]
    },
    {
     "data": {
      "application/vnd.jupyter.widget-view+json": {
       "model_id": "cdad3e64e96546458b25c66582b8a625",
       "version_major": 2,
       "version_minor": 0
      },
      "text/plain": [
       "  0%|          | 0/500 [00:00<?, ?it/s]"
      ]
     },
     "metadata": {},
     "output_type": "display_data"
    },
    {
     "name": "stdout",
     "output_type": "stream",
     "text": [
      "target_manifold : sphere , dim_embedding : 36\n"
     ]
    },
    {
     "data": {
      "application/vnd.jupyter.widget-view+json": {
       "model_id": "9d99c5ce75a4484f921fbda037a50721",
       "version_major": 2,
       "version_minor": 0
      },
      "text/plain": [
       "  0%|          | 0/500 [00:00<?, ?it/s]"
      ]
     },
     "metadata": {},
     "output_type": "display_data"
    },
    {
     "name": "stdout",
     "output_type": "stream",
     "text": [
      "target_manifold : p_plane , dim_embedding : 20\n"
     ]
    },
    {
     "data": {
      "application/vnd.jupyter.widget-view+json": {
       "model_id": "bbf014fb28a440e1a15d81c9671b2b23",
       "version_major": 2,
       "version_minor": 0
      },
      "text/plain": [
       "  0%|          | 0/500 [00:00<?, ?it/s]"
      ]
     },
     "metadata": {},
     "output_type": "display_data"
    },
    {
     "name": "stdout",
     "output_type": "stream",
     "text": [
      "target_manifold : p_plane , dim_embedding : 24\n"
     ]
    },
    {
     "data": {
      "application/vnd.jupyter.widget-view+json": {
       "model_id": "9a2a363b67824d94ae881dc422f7b07c",
       "version_major": 2,
       "version_minor": 0
      },
      "text/plain": [
       "  0%|          | 0/500 [00:00<?, ?it/s]"
      ]
     },
     "metadata": {},
     "output_type": "display_data"
    },
    {
     "name": "stdout",
     "output_type": "stream",
     "text": [
      "target_manifold : p_plane , dim_embedding : 28\n"
     ]
    },
    {
     "data": {
      "application/vnd.jupyter.widget-view+json": {
       "model_id": "9d7939ca43df4922a0364301f8ee3dd9",
       "version_major": 2,
       "version_minor": 0
      },
      "text/plain": [
       "  0%|          | 0/500 [00:00<?, ?it/s]"
      ]
     },
     "metadata": {},
     "output_type": "display_data"
    },
    {
     "name": "stdout",
     "output_type": "stream",
     "text": [
      "target_manifold : p_plane , dim_embedding : 32\n"
     ]
    },
    {
     "data": {
      "application/vnd.jupyter.widget-view+json": {
       "model_id": "9436fbc9e28d4e5bba8661667d2bad94",
       "version_major": 2,
       "version_minor": 0
      },
      "text/plain": [
       "  0%|          | 0/500 [00:00<?, ?it/s]"
      ]
     },
     "metadata": {},
     "output_type": "display_data"
    },
    {
     "name": "stdout",
     "output_type": "stream",
     "text": [
      "target_manifold : p_plane , dim_embedding : 36\n"
     ]
    },
    {
     "data": {
      "application/vnd.jupyter.widget-view+json": {
       "model_id": "3be2006474224a95899514834182dc69",
       "version_major": 2,
       "version_minor": 0
      },
      "text/plain": [
       "  0%|          | 0/500 [00:00<?, ?it/s]"
      ]
     },
     "metadata": {},
     "output_type": "display_data"
    },
    {
     "name": "stdout",
     "output_type": "stream",
     "text": [
      "target_manifold : euclidean , dim_embedding : 20\n"
     ]
    },
    {
     "data": {
      "application/vnd.jupyter.widget-view+json": {
       "model_id": "c110deefd10b4cac98d1c8a62de84266",
       "version_major": 2,
       "version_minor": 0
      },
      "text/plain": [
       "  0%|          | 0/500 [00:00<?, ?it/s]"
      ]
     },
     "metadata": {},
     "output_type": "display_data"
    },
    {
     "name": "stdout",
     "output_type": "stream",
     "text": [
      "target_manifold : euclidean , dim_embedding : 24\n"
     ]
    },
    {
     "data": {
      "application/vnd.jupyter.widget-view+json": {
       "model_id": "704cd25b4f0b478bbbc010d79252b118",
       "version_major": 2,
       "version_minor": 0
      },
      "text/plain": [
       "  0%|          | 0/500 [00:00<?, ?it/s]"
      ]
     },
     "metadata": {},
     "output_type": "display_data"
    },
    {
     "name": "stdout",
     "output_type": "stream",
     "text": [
      "target_manifold : euclidean , dim_embedding : 28\n"
     ]
    },
    {
     "data": {
      "application/vnd.jupyter.widget-view+json": {
       "model_id": "1af51713142a43508f28c3931215d850",
       "version_major": 2,
       "version_minor": 0
      },
      "text/plain": [
       "  0%|          | 0/500 [00:00<?, ?it/s]"
      ]
     },
     "metadata": {},
     "output_type": "display_data"
    },
    {
     "name": "stdout",
     "output_type": "stream",
     "text": [
      "target_manifold : euclidean , dim_embedding : 32\n"
     ]
    },
    {
     "data": {
      "application/vnd.jupyter.widget-view+json": {
       "model_id": "62995699cf644a65a812e82be204a4fb",
       "version_major": 2,
       "version_minor": 0
      },
      "text/plain": [
       "  0%|          | 0/500 [00:00<?, ?it/s]"
      ]
     },
     "metadata": {},
     "output_type": "display_data"
    },
    {
     "name": "stdout",
     "output_type": "stream",
     "text": [
      "target_manifold : euclidean , dim_embedding : 36\n"
     ]
    },
    {
     "data": {
      "application/vnd.jupyter.widget-view+json": {
       "model_id": "d8071f114d884eadbcd9aff1c273169a",
       "version_major": 2,
       "version_minor": 0
      },
      "text/plain": [
       "  0%|          | 0/500 [00:00<?, ?it/s]"
      ]
     },
     "metadata": {},
     "output_type": "display_data"
    }
   ],
   "source": [
    "for target_manifold, dim_embedding in candidates:\n",
    "    print('target_manifold :', target_manifold, ', dim_embedding :', dim_embedding)\n",
    "    try:\n",
    "        model = Encoder(dim_data, dim_embedding, target_manifold=target_manifold,\n",
    "                        layer_configs=layer_configs, device=device)\n",
    "        trainer = Trainer(model, TripletLoss, model_dir=model_dir)\n",
    "\n",
    "        loss_train, loss_valid = trainer.fit(X_train, batch_size, n_epochs, valid_data=X_valid, \n",
    "                                             optim_configs=optim_configs\n",
    "                                            )\n",
    "        #\n",
    "        torch.save({'loss_train':loss_train, 'loss_valid':loss_valid},\n",
    "                   model_dir + '_loss_history/' + '_'.join(['Loss', model.manifold.name, f'dim-{model.dim_embedding}.pt'])\n",
    "                   )\n",
    "        \n",
    "        #\n",
    "        plt.plot(loss_train, label='Train', linewidth=.7)\n",
    "        plt.plot(loss_valid, label='Valid', linewidth=.7, alpha=.7)\n",
    "        plt.legend()\n",
    "        plt.title(f'{model.manifold.name.title()} of dimension {dim_embedding}')\n",
    "        plt.xlabel('epochs')\n",
    "        plt.ylabel('loss')\n",
    "        plt.savefig(fig_dir + target_manifold.title()+f'_dim_embedding_{dim_embedding}.png')\n",
    "        plt.close()\n",
    "    except:\n",
    "        print('Failed : (target_manifold, dim_embedding) = ({}, {})'.format(target_manifold, dim_embedding))\n",
    "    "
   ]
  },
  {
   "cell_type": "code",
   "execution_count": null,
   "id": "99ca0382",
   "metadata": {},
   "outputs": [],
   "source": []
  }
 ],
 "metadata": {
  "kernelspec": {
   "display_name": "GM4HDDA",
   "language": "python",
   "name": "gm4hdda"
  },
  "language_info": {
   "codemirror_mode": {
    "name": "ipython",
    "version": 3
   },
   "file_extension": ".py",
   "mimetype": "text/x-python",
   "name": "python",
   "nbconvert_exporter": "python",
   "pygments_lexer": "ipython3",
   "version": "3.7.15"
  },
  "toc": {
   "base_numbering": 1,
   "nav_menu": {},
   "number_sections": true,
   "sideBar": true,
   "skip_h1_title": false,
   "title_cell": "Table of Contents",
   "title_sidebar": "Contents",
   "toc_cell": false,
   "toc_position": {},
   "toc_section_display": true,
   "toc_window_display": false
  }
 },
 "nbformat": 4,
 "nbformat_minor": 5
}
