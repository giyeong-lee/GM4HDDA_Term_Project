{
 "cells": [
  {
   "cell_type": "code",
   "execution_count": 1,
   "id": "bd61396b",
   "metadata": {
    "ExecuteTime": {
     "end_time": "2022-12-14T01:44:32.492835Z",
     "start_time": "2022-12-14T01:44:32.485852Z"
    }
   },
   "outputs": [],
   "source": [
    "base_dir = './'\n",
    "fig_dir = './figures/'\n",
    "model_dir = './results/trained_encoder/'"
   ]
  },
  {
   "cell_type": "code",
   "execution_count": 2,
   "id": "af0c8166",
   "metadata": {
    "ExecuteTime": {
     "end_time": "2022-12-14T01:44:32.648741Z",
     "start_time": "2022-12-14T01:44:32.629977Z"
    }
   },
   "outputs": [],
   "source": [
    "import os\n",
    "import sys\n",
    "\n",
    "sys.path.insert(0, os.getcwd() + '\\\\src')"
   ]
  },
  {
   "cell_type": "code",
   "execution_count": 3,
   "id": "b3a34546",
   "metadata": {
    "ExecuteTime": {
     "end_time": "2022-12-14T01:44:34.533658Z",
     "start_time": "2022-12-14T01:44:32.778379Z"
    }
   },
   "outputs": [],
   "source": [
    "import numpy as np\n",
    "import pandas as pd\n",
    "\n",
    "import matplotlib.pyplot as plt\n",
    "from tqdm.notebook import trange, tqdm"
   ]
  },
  {
   "cell_type": "markdown",
   "id": "7a5a6268",
   "metadata": {},
   "source": [
    "---"
   ]
  },
  {
   "cell_type": "code",
   "execution_count": 4,
   "id": "4ee2d92c",
   "metadata": {
    "ExecuteTime": {
     "end_time": "2022-12-14T01:44:36.307983Z",
     "start_time": "2022-12-14T01:44:34.534519Z"
    }
   },
   "outputs": [],
   "source": [
    "import torch\n",
    "import torch.nn as nn\n",
    "import torch.nn.functional as F"
   ]
  },
  {
   "cell_type": "code",
   "execution_count": 5,
   "id": "38d4b74e",
   "metadata": {
    "ExecuteTime": {
     "end_time": "2022-12-14T01:44:36.339515Z",
     "start_time": "2022-12-14T01:44:36.308983Z"
    }
   },
   "outputs": [
    {
     "name": "stdout",
     "output_type": "stream",
     "text": [
      "CUDA available : True\n"
     ]
    }
   ],
   "source": [
    "print('CUDA available :', torch.cuda.is_available())\n",
    "# device = torch.device('cpu')\n",
    "device = torch.device('cuda')"
   ]
  },
  {
   "cell_type": "code",
   "execution_count": 6,
   "id": "1f412ba6",
   "metadata": {
    "ExecuteTime": {
     "end_time": "2022-12-14T01:44:36.401503Z",
     "start_time": "2022-12-14T01:44:36.341195Z"
    }
   },
   "outputs": [],
   "source": [
    "n_timestamps = 5\n",
    "lag = 1\n",
    "\n",
    "data_dir = f'./data/n_timestamps_{n_timestamps}__lag_{lag}/' + 'data_split.pt'\n",
    "\n",
    "data_split = torch.load(data_dir)\n",
    "train_data, train_pos_enc, train_dates = data_split['train'].values()\n",
    "valid_data, valid_pos_enc, valid_dates = data_split['valid'].values()\n",
    "test_data, test_pos_enc, test_dates = data_split['test'].values()\n",
    "\n",
    "# Concat Date Positional Encoding\n",
    "X_train = torch.cat((train_data, train_pos_enc), dim=-1)\n",
    "X_valid = torch.cat((valid_data, valid_pos_enc), dim=-1)\n",
    "X_test = torch.cat((test_data, test_pos_enc), dim=-1)\n",
    "\n",
    "# Get currency names\n",
    "currency_names = pd.read_csv(f'./data/n_timestamps_{n_timestamps}__lag_{lag}/cleansed_data.csv').columns.tolist()\n",
    "\n",
    "del data_split"
   ]
  },
  {
   "cell_type": "code",
   "execution_count": 7,
   "id": "ebf7f508",
   "metadata": {
    "ExecuteTime": {
     "end_time": "2022-12-14T01:44:36.417460Z",
     "start_time": "2022-12-14T01:44:36.402500Z"
    }
   },
   "outputs": [
    {
     "name": "stdout",
     "output_type": "stream",
     "text": [
      "Data shape : (*, 5, 36)\n",
      "    - Train : 2002-01-08 ~ 2015-05-07 (3412, 63.99%)\n",
      "    - Valid : 2015-05-08 ~ 2018-09-03 ( 853, 16.00%)\n",
      "    - Test  : 2018-09-04 ~ 2022-10-31 (1067, 20.01%)\n"
     ]
    }
   ],
   "source": [
    "N = X_train.shape[0] + X_valid.shape[0] + X_test.shape[0]\n",
    "_, T, D = X_train.shape\n",
    "print(f'Data shape : (*, {T}, {D})')\n",
    "print(f'    - Train : {train_dates[0]} ~ {train_dates[-1]} ({X_train.__len__():>4d}, {X_train.__len__()/N*100:.2f}%)')\n",
    "print(f'    - Valid : {valid_dates[0]} ~ {valid_dates[-1]} ({X_valid.__len__():>4d}, {X_valid.__len__()/N*100:.2f}%)')\n",
    "print(f'    - Test  : {test_dates[0]} ~ {test_dates[-1]} ({X_test.__len__():>4d}, {X_test.__len__()/N*100:.2f}%)')"
   ]
  },
  {
   "cell_type": "markdown",
   "id": "f08d7a6a",
   "metadata": {},
   "source": [
    "- Raw data for the visualization"
   ]
  },
  {
   "cell_type": "code",
   "execution_count": 8,
   "id": "7b705740",
   "metadata": {
    "ExecuteTime": {
     "end_time": "2022-12-14T01:44:38.044644Z",
     "start_time": "2022-12-14T01:44:36.419455Z"
    },
    "scrolled": true
   },
   "outputs": [],
   "source": [
    "from preprocess import *\n",
    "\n",
    "raw_data = load_data('./data/USD2FX_BIS_daily_avg.csv', \n",
    "                     start_date = '2002-01-01', \n",
    "                     end_date = '2022-10-31'\n",
    "                    )\n",
    "raw_data = cleanse_data(raw_data)"
   ]
  },
  {
   "cell_type": "markdown",
   "id": "8b4d3409",
   "metadata": {},
   "source": [
    "---"
   ]
  },
  {
   "cell_type": "code",
   "execution_count": 9,
   "id": "fc8115c5",
   "metadata": {
    "ExecuteTime": {
     "end_time": "2022-12-14T01:44:38.124430Z",
     "start_time": "2022-12-14T01:44:38.045641Z"
    }
   },
   "outputs": [],
   "source": [
    "from encoder import Encoder\n",
    "from itertools import product"
   ]
  },
  {
   "cell_type": "code",
   "execution_count": 10,
   "id": "14144b8e",
   "metadata": {
    "ExecuteTime": {
     "end_time": "2022-12-14T01:44:38.218255Z",
     "start_time": "2022-12-14T01:44:38.125427Z"
    }
   },
   "outputs": [],
   "source": [
    "from sklearn.cluster import DBSCAN\n",
    "from sklearn.metrics import silhouette_score"
   ]
  },
  {
   "cell_type": "code",
   "execution_count": 11,
   "id": "707ad86d",
   "metadata": {
    "ExecuteTime": {
     "end_time": "2022-12-14T01:44:38.233242Z",
     "start_time": "2022-12-14T01:44:38.219221Z"
    }
   },
   "outputs": [],
   "source": [
    "manifold_names = {'euclidean':'Euclidean', \n",
    "                  'p_plane':'Poincare-Halfplane', \n",
    "                  'sphere':'Hypersphere'}"
   ]
  },
  {
   "cell_type": "markdown",
   "id": "a7d4568b",
   "metadata": {},
   "source": [
    "- Training"
   ]
  },
  {
   "cell_type": "code",
   "execution_count": 12,
   "id": "7247f2fc",
   "metadata": {
    "ExecuteTime": {
     "end_time": "2022-12-14T01:44:38.249198Z",
     "start_time": "2022-12-14T01:44:38.235238Z"
    }
   },
   "outputs": [],
   "source": [
    "dim_data = (T, D)\n",
    "layer_configs = {}\n",
    "\n",
    "candidates = list(product(['sphere', 'p_plane', 'euclidean'], \n",
    "                          list(range(16, 37))))\n",
    "\n",
    "data = torch.cat((X_train, X_valid, X_test)) \n",
    "\n",
    "N, _, _ = data.shape"
   ]
  },
  {
   "cell_type": "code",
   "execution_count": 13,
   "id": "40b330ff",
   "metadata": {
    "ExecuteTime": {
     "end_time": "2022-12-14T01:44:38.265155Z",
     "start_time": "2022-12-14T01:44:38.250203Z"
    }
   },
   "outputs": [],
   "source": [
    "def compute_pairwise_distance(X, encoder):\n",
    "    dist = torch.zeros((N, N))\n",
    "    for i in range(N):\n",
    "        repeated = emb[[i]].repeat(N, 1)\n",
    "        dist_i = model.manifold.distance(repeated, emb)\n",
    "        dist[i] = dist_i\n",
    "    \n",
    "    return dist"
   ]
  },
  {
   "cell_type": "code",
   "execution_count": 14,
   "id": "577be82f",
   "metadata": {
    "ExecuteTime": {
     "end_time": "2022-12-14T01:57:32.397650Z",
     "start_time": "2022-12-14T01:44:38.267150Z"
    }
   },
   "outputs": [
    {
     "data": {
      "application/vnd.jupyter.widget-view+json": {
       "model_id": "16835312afc3476cb42014d3d59d5353",
       "version_major": 2,
       "version_minor": 0
      },
      "text/plain": [
       "  0%|          | 0/63 [00:00<?, ?it/s]"
      ]
     },
     "metadata": {},
     "output_type": "display_data"
    }
   ],
   "source": [
    "try:\n",
    "    # Load clustering result\n",
    "    clst_results = pd.read_csv('./results/clustering/clustering_results_by_model.csv')\n",
    "except:\n",
    "    save_dir = './results/clustering/computed_distance_by_model.h5'\n",
    "    try:\n",
    "        # Load precomputed distance by model\n",
    "        dist_by_models = torch.load(save_dir)\n",
    "    except:\n",
    "        dist_by_models = {}\n",
    "        \n",
    "        # Compute distance\n",
    "        for target_manifold, dim_embedding in tqdm(candidates):\n",
    "            model_name = '_'.join([manifold_names[target_manifold], f'dim-{dim_embedding}'])\n",
    "\n",
    "            best_ckpt = torch.load(model_dir +'best/' + model_name + '_best.pt')\n",
    "\n",
    "            model = Encoder(dim_data, dim_embedding, target_manifold=target_manifold,\n",
    "                            layer_configs=layer_configs, device=device)\n",
    "            model.load_state_dict(best_ckpt['state_dict'])\n",
    "            model.eval()\n",
    "            emb = model(data).detach().cpu()\n",
    "\n",
    "            dist = compute_pairwise_distance(data, model)\n",
    "\n",
    "            dist_by_models[model_name] = dist.numpy()\n",
    "        \n",
    "        # Save the computed distance\n",
    "        torch.save(dist_by_models, save_dir)\n",
    "    \n",
    "    model_names = list(dist_by_models.keys())\n",
    "    clst_results = pd.DataFrame(np.zeros((dist_by_models.keys().__len__(), 5)), \n",
    "                            columns=['Manifold', 'Dimension', 'Opt_EPS', 'n_clusters', 'Sil_Coef']\n",
    "                           )\n",
    "    \n",
    "    for i in trange(dist_by_models.__len__()):\n",
    "        model_name = model_names[i]\n",
    "        manifold, dim = model_name.split('_')\n",
    "        dim = int(dim.split('-')[-1])\n",
    "        dist = dist_by_models[model_name]\n",
    "        for eps in np.linspace(5e-2, 10, 1001):\n",
    "            dbscan = DBSCAN(eps=eps, metric='precomputed', n_jobs=-1)\n",
    "            clst_labels = dbscan.fit_predict(dist)\n",
    "            n_labels = np.unique(dbscan.labels_).__len__()\n",
    "            if n_labels == 5:\n",
    "                sil_coef = silhouette_score(dist, clst_labels)\n",
    "                break\n",
    "        clst_results.iloc[i] = [manifold, dim, eps, n_labels, sil_coef]\n",
    "    \n",
    "    clst_results.to_csv('./results/clustering/clustering_results_by_model.csv', index=False)"
   ]
  },
  {
   "cell_type": "code",
   "execution_count": 18,
   "id": "4fb37ba5",
   "metadata": {
    "ExecuteTime": {
     "end_time": "2022-12-14T07:34:28.438813Z",
     "start_time": "2022-12-14T07:01:28.038779Z"
    }
   },
   "outputs": [
    {
     "data": {
      "application/vnd.jupyter.widget-view+json": {
       "model_id": "140d8c15702c4b569030e2cc55e5d8f8",
       "version_major": 2,
       "version_minor": 0
      },
      "text/plain": [
       "  0%|          | 0/63 [00:00<?, ?it/s]"
      ]
     },
     "metadata": {},
     "output_type": "display_data"
    }
   ],
   "source": [
    "model_names = list(dist_by_models.keys())\n",
    "clst_results = pd.DataFrame(np.zeros((dist_by_models.keys().__len__(), 5)), \n",
    "                        columns=['Manifold', 'Dimension', 'Opt_EPS', 'n_clusters', 'Sil_Coef']\n",
    "                       )\n",
    "\n",
    "for i in trange(dist_by_models.__len__()):\n",
    "    model_name = model_names[i]\n",
    "    manifold, dim = model_name.split('_')\n",
    "    dim = int(dim.split('-')[-1])\n",
    "    dist = dist_by_models[model_name]\n",
    "    for eps in np.linspace(5e-2, 10, 1001):\n",
    "        dbscan = DBSCAN(eps=eps, metric='precomputed', n_jobs=-1)\n",
    "        clst_labels = dbscan.fit_predict(dist)\n",
    "        n_labels = np.unique(dbscan.labels_).__len__()\n",
    "        if n_labels == 5:\n",
    "            sil_coef = silhouette_score(dist, clst_labels)\n",
    "            break\n",
    "    clst_results.iloc[i] = [manifold, dim, eps, n_labels, sil_coef]\n",
    "\n",
    "clst_results.to_csv('./results/clustering/clustering_results_by_model.csv', index=False)"
   ]
  },
  {
   "cell_type": "code",
   "execution_count": null,
   "id": "a0db4fd3",
   "metadata": {},
   "outputs": [],
   "source": []
  },
  {
   "cell_type": "code",
   "execution_count": 25,
   "id": "897a105f",
   "metadata": {
    "ExecuteTime": {
     "end_time": "2022-12-14T07:57:15.437736Z",
     "start_time": "2022-12-14T07:57:15.414781Z"
    }
   },
   "outputs": [
    {
     "data": {
      "text/html": [
       "<div>\n",
       "<style scoped>\n",
       "    .dataframe tbody tr th:only-of-type {\n",
       "        vertical-align: middle;\n",
       "    }\n",
       "\n",
       "    .dataframe tbody tr th {\n",
       "        vertical-align: top;\n",
       "    }\n",
       "\n",
       "    .dataframe thead th {\n",
       "        text-align: right;\n",
       "    }\n",
       "</style>\n",
       "<table border=\"1\" class=\"dataframe\">\n",
       "  <thead>\n",
       "    <tr style=\"text-align: right;\">\n",
       "      <th></th>\n",
       "      <th></th>\n",
       "      <th>Dimension</th>\n",
       "      <th>Opt_EPS</th>\n",
       "      <th>Sil_Coef</th>\n",
       "    </tr>\n",
       "    <tr>\n",
       "      <th>n_clusters</th>\n",
       "      <th>Manifold</th>\n",
       "      <th></th>\n",
       "      <th></th>\n",
       "      <th></th>\n",
       "    </tr>\n",
       "  </thead>\n",
       "  <tbody>\n",
       "    <tr>\n",
       "      <th>1</th>\n",
       "      <th>Hypersphere</th>\n",
       "      <td>4</td>\n",
       "      <td>4</td>\n",
       "      <td>4</td>\n",
       "    </tr>\n",
       "    <tr>\n",
       "      <th rowspan=\"3\" valign=\"top\">5</th>\n",
       "      <th>Euclidean</th>\n",
       "      <td>21</td>\n",
       "      <td>21</td>\n",
       "      <td>21</td>\n",
       "    </tr>\n",
       "    <tr>\n",
       "      <th>Hypersphere</th>\n",
       "      <td>17</td>\n",
       "      <td>17</td>\n",
       "      <td>17</td>\n",
       "    </tr>\n",
       "    <tr>\n",
       "      <th>Poincare-Halfplane</th>\n",
       "      <td>21</td>\n",
       "      <td>21</td>\n",
       "      <td>21</td>\n",
       "    </tr>\n",
       "  </tbody>\n",
       "</table>\n",
       "</div>"
      ],
      "text/plain": [
       "                               Dimension  Opt_EPS  Sil_Coef\n",
       "n_clusters Manifold                                        \n",
       "1          Hypersphere                 4        4         4\n",
       "5          Euclidean                  21       21        21\n",
       "           Hypersphere                17       17        17\n",
       "           Poincare-Halfplane         21       21        21"
      ]
     },
     "execution_count": 25,
     "metadata": {},
     "output_type": "execute_result"
    }
   ],
   "source": [
    "clst_results.groupby(['n_clusters', 'Manifold']).count()"
   ]
  },
  {
   "cell_type": "code",
   "execution_count": 27,
   "id": "09ee4a30",
   "metadata": {
    "ExecuteTime": {
     "end_time": "2022-12-14T08:03:45.036944Z",
     "start_time": "2022-12-14T08:03:45.025977Z"
    }
   },
   "outputs": [
    {
     "data": {
      "text/html": [
       "<div>\n",
       "<style scoped>\n",
       "    .dataframe tbody tr th:only-of-type {\n",
       "        vertical-align: middle;\n",
       "    }\n",
       "\n",
       "    .dataframe tbody tr th {\n",
       "        vertical-align: top;\n",
       "    }\n",
       "\n",
       "    .dataframe thead th {\n",
       "        text-align: right;\n",
       "    }\n",
       "</style>\n",
       "<table border=\"1\" class=\"dataframe\">\n",
       "  <thead>\n",
       "    <tr style=\"text-align: right;\">\n",
       "      <th></th>\n",
       "      <th>Manifold</th>\n",
       "      <th>Dimension</th>\n",
       "      <th>Opt_EPS</th>\n",
       "      <th>n_clusters</th>\n",
       "      <th>Sil_Coef</th>\n",
       "    </tr>\n",
       "  </thead>\n",
       "  <tbody>\n",
       "    <tr>\n",
       "      <th>45</th>\n",
       "      <td>Euclidean</td>\n",
       "      <td>19</td>\n",
       "      <td>0.16940</td>\n",
       "      <td>5</td>\n",
       "      <td>0.558571</td>\n",
       "    </tr>\n",
       "    <tr>\n",
       "      <th>39</th>\n",
       "      <td>Poincare-Halfplane</td>\n",
       "      <td>34</td>\n",
       "      <td>0.72660</td>\n",
       "      <td>5</td>\n",
       "      <td>0.468562</td>\n",
       "    </tr>\n",
       "    <tr>\n",
       "      <th>28</th>\n",
       "      <td>Poincare-Halfplane</td>\n",
       "      <td>23</td>\n",
       "      <td>0.73655</td>\n",
       "      <td>5</td>\n",
       "      <td>0.432344</td>\n",
       "    </tr>\n",
       "    <tr>\n",
       "      <th>32</th>\n",
       "      <td>Poincare-Halfplane</td>\n",
       "      <td>27</td>\n",
       "      <td>0.75645</td>\n",
       "      <td>5</td>\n",
       "      <td>0.415232</td>\n",
       "    </tr>\n",
       "    <tr>\n",
       "      <th>37</th>\n",
       "      <td>Poincare-Halfplane</td>\n",
       "      <td>32</td>\n",
       "      <td>1.04500</td>\n",
       "      <td>5</td>\n",
       "      <td>0.414096</td>\n",
       "    </tr>\n",
       "    <tr>\n",
       "      <th>33</th>\n",
       "      <td>Poincare-Halfplane</td>\n",
       "      <td>28</td>\n",
       "      <td>0.79625</td>\n",
       "      <td>5</td>\n",
       "      <td>0.383634</td>\n",
       "    </tr>\n",
       "    <tr>\n",
       "      <th>53</th>\n",
       "      <td>Euclidean</td>\n",
       "      <td>27</td>\n",
       "      <td>0.28880</td>\n",
       "      <td>5</td>\n",
       "      <td>0.381625</td>\n",
       "    </tr>\n",
       "    <tr>\n",
       "      <th>54</th>\n",
       "      <td>Euclidean</td>\n",
       "      <td>28</td>\n",
       "      <td>0.31865</td>\n",
       "      <td>5</td>\n",
       "      <td>0.306429</td>\n",
       "    </tr>\n",
       "    <tr>\n",
       "      <th>60</th>\n",
       "      <td>Euclidean</td>\n",
       "      <td>34</td>\n",
       "      <td>0.23905</td>\n",
       "      <td>5</td>\n",
       "      <td>0.293817</td>\n",
       "    </tr>\n",
       "    <tr>\n",
       "      <th>57</th>\n",
       "      <td>Euclidean</td>\n",
       "      <td>31</td>\n",
       "      <td>1.46290</td>\n",
       "      <td>5</td>\n",
       "      <td>0.263992</td>\n",
       "    </tr>\n",
       "  </tbody>\n",
       "</table>\n",
       "</div>"
      ],
      "text/plain": [
       "              Manifold  Dimension  Opt_EPS  n_clusters  Sil_Coef\n",
       "45           Euclidean         19  0.16940           5  0.558571\n",
       "39  Poincare-Halfplane         34  0.72660           5  0.468562\n",
       "28  Poincare-Halfplane         23  0.73655           5  0.432344\n",
       "32  Poincare-Halfplane         27  0.75645           5  0.415232\n",
       "37  Poincare-Halfplane         32  1.04500           5  0.414096\n",
       "33  Poincare-Halfplane         28  0.79625           5  0.383634\n",
       "53           Euclidean         27  0.28880           5  0.381625\n",
       "54           Euclidean         28  0.31865           5  0.306429\n",
       "60           Euclidean         34  0.23905           5  0.293817\n",
       "57           Euclidean         31  1.46290           5  0.263992"
      ]
     },
     "execution_count": 27,
     "metadata": {},
     "output_type": "execute_result"
    }
   ],
   "source": [
    "\n",
    "clst_results.Dimension = clst_results.Dimension.map(int)\n",
    "clst_results.n_clusters = clst_results.n_clusters.map(int)\n",
    "clst_results[clst_results.Sil_Coef > 0].sort_values('Sil_Coef', ascending=False).head(10)"
   ]
  },
  {
   "cell_type": "code",
   "execution_count": null,
   "id": "4e2ae288",
   "metadata": {
    "ExecuteTime": {
     "end_time": "2022-12-14T01:43:05.604364Z",
     "start_time": "2022-12-14T01:43:05.598414Z"
    }
   },
   "outputs": [],
   "source": [
    "dates = np.concatenate((train_dates, valid_dates, test_dates))"
   ]
  },
  {
   "cell_type": "code",
   "execution_count": null,
   "id": "6fd7aef3",
   "metadata": {
    "ExecuteTime": {
     "end_time": "2022-12-14T01:43:07.185976Z",
     "start_time": "2022-12-14T01:43:07.166413Z"
    }
   },
   "outputs": [],
   "source": [
    "transition_dates = []\n",
    "transition_idx = []\n",
    "for i, clst in enumerate(clst_labels):\n",
    "    if not i:\n",
    "        prev_clst = clst\n",
    "        continue\n",
    "    if clst != prev_clst:\n",
    "        transition_dates.append(dates[i])\n",
    "        transition_idx.append(i)\n",
    "    \n",
    "    prev_clst = clst"
   ]
  },
  {
   "cell_type": "code",
   "execution_count": null,
   "id": "bddcdfdb",
   "metadata": {
    "ExecuteTime": {
     "end_time": "2022-12-14T01:43:11.332424Z",
     "start_time": "2022-12-14T01:43:11.326440Z"
    }
   },
   "outputs": [],
   "source": [
    "raw_data.columns"
   ]
  },
  {
   "cell_type": "code",
   "execution_count": null,
   "id": "8fff4097",
   "metadata": {
    "ExecuteTime": {
     "end_time": "2022-12-14T01:43:12.251414Z",
     "start_time": "2022-12-14T01:43:11.903673Z"
    }
   },
   "outputs": [],
   "source": [
    "recent_idx = raw_data.index.tolist().index('2020-01-02')\n",
    "\n",
    "fig, ax = plt.subplots(figsize=(20, 10))\n",
    "\n",
    "selected = raw_data[['KRW', 'JPY', 'CNY', 'HKD', 'EUR', 'GBP', 'CHF', 'RUB']].copy()\n",
    "selected /= selected.values[recent_idx]\n",
    "for idx in transition_idx:\n",
    "    plt.axvline(idx, c='grey', linewidth=.5, linestyle=':')\n",
    "selected.plot(ax=ax)\n",
    "plt.xlim([0, selected.shape[0]])\n",
    "plt.show()"
   ]
  },
  {
   "cell_type": "code",
   "execution_count": null,
   "id": "50c2cbe3",
   "metadata": {},
   "outputs": [],
   "source": []
  }
 ],
 "metadata": {
  "kernelspec": {
   "display_name": "GM4HDDA",
   "language": "python",
   "name": "gm4hdda"
  },
  "language_info": {
   "codemirror_mode": {
    "name": "ipython",
    "version": 3
   },
   "file_extension": ".py",
   "mimetype": "text/x-python",
   "name": "python",
   "nbconvert_exporter": "python",
   "pygments_lexer": "ipython3",
   "version": "3.7.15"
  },
  "toc": {
   "base_numbering": 1,
   "nav_menu": {},
   "number_sections": true,
   "sideBar": true,
   "skip_h1_title": false,
   "title_cell": "Table of Contents",
   "title_sidebar": "Contents",
   "toc_cell": false,
   "toc_position": {},
   "toc_section_display": true,
   "toc_window_display": false
  }
 },
 "nbformat": 4,
 "nbformat_minor": 5
}
