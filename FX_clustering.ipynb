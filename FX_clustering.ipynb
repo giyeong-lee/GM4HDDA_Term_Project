{
 "cells": [
  {
   "cell_type": "code",
   "execution_count": 1,
   "id": "bd61396b",
   "metadata": {
    "ExecuteTime": {
     "end_time": "2022-12-12T17:16:45.764254Z",
     "start_time": "2022-12-12T17:16:45.745250Z"
    }
   },
   "outputs": [],
   "source": [
    "base_dir = './'\n",
    "fig_dir = './figures/'\n",
    "model_dir = './models/'"
   ]
  },
  {
   "cell_type": "code",
   "execution_count": 2,
   "id": "af0c8166",
   "metadata": {
    "ExecuteTime": {
     "end_time": "2022-12-12T17:16:45.780261Z",
     "start_time": "2022-12-12T17:16:45.766255Z"
    }
   },
   "outputs": [],
   "source": [
    "import os\n",
    "import sys\n",
    "\n",
    "sys.path.insert(0, os.getcwd() + '\\\\src')"
   ]
  },
  {
   "cell_type": "code",
   "execution_count": 3,
   "id": "b3a34546",
   "metadata": {
    "ExecuteTime": {
     "end_time": "2022-12-12T17:16:46.564437Z",
     "start_time": "2022-12-12T17:16:45.781261Z"
    }
   },
   "outputs": [],
   "source": [
    "import pandas as pd\n",
    "import matplotlib.pyplot as plt\n",
    "from tqdm.notebook import trange"
   ]
  },
  {
   "cell_type": "markdown",
   "id": "7a5a6268",
   "metadata": {},
   "source": [
    "---"
   ]
  },
  {
   "cell_type": "code",
   "execution_count": 4,
   "id": "4ee2d92c",
   "metadata": {
    "ExecuteTime": {
     "end_time": "2022-12-12T17:16:47.395628Z",
     "start_time": "2022-12-12T17:16:46.566438Z"
    }
   },
   "outputs": [],
   "source": [
    "import torch\n",
    "import torch.nn as nn\n",
    "import torch.nn.functional as F"
   ]
  },
  {
   "cell_type": "code",
   "execution_count": 5,
   "id": "38d4b74e",
   "metadata": {
    "ExecuteTime": {
     "end_time": "2022-12-12T17:16:47.427575Z",
     "start_time": "2022-12-12T17:16:47.396628Z"
    }
   },
   "outputs": [
    {
     "name": "stdout",
     "output_type": "stream",
     "text": [
      "CUDA available : True\n"
     ]
    }
   ],
   "source": [
    "print('CUDA available :', torch.cuda.is_available())\n",
    "# device = torch.device('cpu')\n",
    "device = torch.device('cuda')"
   ]
  },
  {
   "cell_type": "code",
   "execution_count": 6,
   "id": "1f412ba6",
   "metadata": {
    "ExecuteTime": {
     "end_time": "2022-12-12T17:16:47.459581Z",
     "start_time": "2022-12-12T17:16:47.428575Z"
    }
   },
   "outputs": [],
   "source": [
    "n_timestamps = 5\n",
    "lag = 1\n",
    "\n",
    "data_dir = f'./data/n_timestamps_{n_timestamps}__lag_{lag}/' + 'data_split.pt'\n",
    "\n",
    "data_split = torch.load(data_dir)\n",
    "train_data, train_pos_enc, train_dates = data_split['train'].values()\n",
    "valid_data, valid_pos_enc, valid_dates = data_split['valid'].values()\n",
    "test_data, test_pos_enc, test_dates = data_split['test'].values()\n",
    "\n",
    "# Concat Date Positional Encoding\n",
    "X_train = torch.cat((train_data, train_pos_enc), dim=-1)\n",
    "X_valid = torch.cat((valid_data, valid_pos_enc), dim=-1)\n",
    "X_test = torch.cat((test_data, test_pos_enc), dim=-1)\n",
    "\n",
    "# Get currency names\n",
    "currency_names = pd.read_csv(f'./data/n_timestamps_{n_timestamps}__lag_{lag}/cleansed_data.csv').columns.tolist()\n",
    "\n",
    "del data_split"
   ]
  },
  {
   "cell_type": "code",
   "execution_count": 7,
   "id": "ebf7f508",
   "metadata": {
    "ExecuteTime": {
     "end_time": "2022-12-12T17:16:47.475585Z",
     "start_time": "2022-12-12T17:16:47.460582Z"
    }
   },
   "outputs": [
    {
     "name": "stdout",
     "output_type": "stream",
     "text": [
      "Data shape : (*, 5, 36)\n",
      "    - Train : 2002-01-08 ~ 2015-05-07 (3412, 63.99%)\n",
      "    - Valid : 2015-05-08 ~ 2018-09-03 ( 853, 16.00%)\n",
      "    - Test  : 2018-09-04 ~ 2022-10-31 (1067, 20.01%)\n"
     ]
    }
   ],
   "source": [
    "N = X_train.shape[0] + X_valid.shape[0] + X_test.shape[0]\n",
    "_, T, D = X_train.shape\n",
    "print(f'Data shape : (*, {T}, {D})')\n",
    "print(f'    - Train : {train_dates[0]} ~ {train_dates[-1]} ({X_train.__len__():>4d}, {X_train.__len__()/N*100:.2f}%)')\n",
    "print(f'    - Valid : {valid_dates[0]} ~ {valid_dates[-1]} ({X_valid.__len__():>4d}, {X_valid.__len__()/N*100:.2f}%)')\n",
    "print(f'    - Test  : {test_dates[0]} ~ {test_dates[-1]} ({X_test.__len__():>4d}, {X_test.__len__()/N*100:.2f}%)')"
   ]
  },
  {
   "cell_type": "markdown",
   "id": "8b4d3409",
   "metadata": {},
   "source": [
    "---"
   ]
  },
  {
   "cell_type": "code",
   "execution_count": 8,
   "id": "fc8115c5",
   "metadata": {
    "ExecuteTime": {
     "end_time": "2022-12-12T17:16:47.523596Z",
     "start_time": "2022-12-12T17:16:47.476585Z"
    }
   },
   "outputs": [],
   "source": [
    "from encoder import Encoder\n",
    "from itertools import product"
   ]
  },
  {
   "cell_type": "code",
   "execution_count": 9,
   "id": "707ad86d",
   "metadata": {
    "ExecuteTime": {
     "end_time": "2022-12-12T17:16:47.539599Z",
     "start_time": "2022-12-12T17:16:47.524596Z"
    }
   },
   "outputs": [],
   "source": [
    "manifold_names = {'euclidean':'Euclidean', \n",
    "                  'p_plane':'Poincare-Halfplane', \n",
    "                  'sphere':'Hypersphere'}"
   ]
  },
  {
   "cell_type": "markdown",
   "id": "a7d4568b",
   "metadata": {},
   "source": [
    "- Training"
   ]
  },
  {
   "cell_type": "code",
   "execution_count": 10,
   "id": "7247f2fc",
   "metadata": {
    "ExecuteTime": {
     "end_time": "2022-12-12T17:16:47.555603Z",
     "start_time": "2022-12-12T17:16:47.541600Z"
    }
   },
   "outputs": [],
   "source": [
    "dim_data = (T, D)\n",
    "layer_configs = {}\n",
    "\n",
    "candidates = list(product(['sphere', 'p_plane', 'euclidean'], \n",
    "                          list(range(20, 40, 4))))"
   ]
  }
 ],
 "metadata": {
  "kernelspec": {
   "display_name": "GM4HDDA",
   "language": "python",
   "name": "gm4hdda"
  },
  "language_info": {
   "codemirror_mode": {
    "name": "ipython",
    "version": 3
   },
   "file_extension": ".py",
   "mimetype": "text/x-python",
   "name": "python",
   "nbconvert_exporter": "python",
   "pygments_lexer": "ipython3",
   "version": "3.7.15"
  },
  "toc": {
   "base_numbering": 1,
   "nav_menu": {},
   "number_sections": true,
   "sideBar": true,
   "skip_h1_title": false,
   "title_cell": "Table of Contents",
   "title_sidebar": "Contents",
   "toc_cell": false,
   "toc_position": {},
   "toc_section_display": true,
   "toc_window_display": false
  }
 },
 "nbformat": 4,
 "nbformat_minor": 5
}
