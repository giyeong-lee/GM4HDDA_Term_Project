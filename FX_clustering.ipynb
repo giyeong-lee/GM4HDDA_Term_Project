{
 "cells": [
  {
   "cell_type": "code",
   "execution_count": 1,
   "id": "bd61396b",
   "metadata": {
    "ExecuteTime": {
     "end_time": "2022-12-13T13:25:54.547749Z",
     "start_time": "2022-12-13T13:25:54.540763Z"
    }
   },
   "outputs": [],
   "source": [
    "base_dir = './'\n",
    "fig_dir = './figures/'\n",
    "model_dir = './results/trained_encoder/'"
   ]
  },
  {
   "cell_type": "code",
   "execution_count": 2,
   "id": "af0c8166",
   "metadata": {
    "ExecuteTime": {
     "end_time": "2022-12-13T13:25:54.563395Z",
     "start_time": "2022-12-13T13:25:54.549333Z"
    }
   },
   "outputs": [],
   "source": [
    "import os\n",
    "import sys\n",
    "\n",
    "sys.path.insert(0, os.getcwd() + '\\\\src')"
   ]
  },
  {
   "cell_type": "code",
   "execution_count": 3,
   "id": "b3a34546",
   "metadata": {
    "ExecuteTime": {
     "end_time": "2022-12-13T13:25:55.348209Z",
     "start_time": "2022-12-13T13:25:54.564371Z"
    }
   },
   "outputs": [],
   "source": [
    "import numpy as np\n",
    "import pandas as pd\n",
    "\n",
    "import matplotlib.pyplot as plt\n",
    "from tqdm.notebook import trange, tqdm"
   ]
  },
  {
   "cell_type": "markdown",
   "id": "7a5a6268",
   "metadata": {},
   "source": [
    "---"
   ]
  },
  {
   "cell_type": "code",
   "execution_count": 4,
   "id": "4ee2d92c",
   "metadata": {
    "ExecuteTime": {
     "end_time": "2022-12-13T13:25:56.167693Z",
     "start_time": "2022-12-13T13:25:55.349221Z"
    }
   },
   "outputs": [],
   "source": [
    "import torch\n",
    "import torch.nn as nn\n",
    "import torch.nn.functional as F"
   ]
  },
  {
   "cell_type": "code",
   "execution_count": 5,
   "id": "38d4b74e",
   "metadata": {
    "ExecuteTime": {
     "end_time": "2022-12-13T13:25:56.198804Z",
     "start_time": "2022-12-13T13:25:56.169690Z"
    }
   },
   "outputs": [
    {
     "name": "stdout",
     "output_type": "stream",
     "text": [
      "CUDA available : True\n"
     ]
    }
   ],
   "source": [
    "print('CUDA available :', torch.cuda.is_available())\n",
    "# device = torch.device('cpu')\n",
    "device = torch.device('cuda')"
   ]
  },
  {
   "cell_type": "code",
   "execution_count": 6,
   "id": "1f412ba6",
   "metadata": {
    "ExecuteTime": {
     "end_time": "2022-12-13T13:25:56.246688Z",
     "start_time": "2022-12-13T13:25:56.199478Z"
    }
   },
   "outputs": [],
   "source": [
    "n_timestamps = 5\n",
    "lag = 1\n",
    "\n",
    "data_dir = f'./data/n_timestamps_{n_timestamps}__lag_{lag}/' + 'data_split.pt'\n",
    "\n",
    "data_split = torch.load(data_dir)\n",
    "train_data, train_pos_enc, train_dates = data_split['train'].values()\n",
    "valid_data, valid_pos_enc, valid_dates = data_split['valid'].values()\n",
    "test_data, test_pos_enc, test_dates = data_split['test'].values()\n",
    "\n",
    "# Concat Date Positional Encoding\n",
    "X_train = torch.cat((train_data, train_pos_enc), dim=-1)\n",
    "X_valid = torch.cat((valid_data, valid_pos_enc), dim=-1)\n",
    "X_test = torch.cat((test_data, test_pos_enc), dim=-1)\n",
    "\n",
    "# Get currency names\n",
    "currency_names = pd.read_csv(f'./data/n_timestamps_{n_timestamps}__lag_{lag}/cleansed_data.csv').columns.tolist()\n",
    "\n",
    "del data_split"
   ]
  },
  {
   "cell_type": "code",
   "execution_count": 7,
   "id": "ebf7f508",
   "metadata": {
    "ExecuteTime": {
     "end_time": "2022-12-13T13:25:56.262654Z",
     "start_time": "2022-12-13T13:25:56.247686Z"
    }
   },
   "outputs": [
    {
     "name": "stdout",
     "output_type": "stream",
     "text": [
      "Data shape : (*, 5, 36)\n",
      "    - Train : 2002-01-08 ~ 2015-05-07 (3412, 63.99%)\n",
      "    - Valid : 2015-05-08 ~ 2018-09-03 ( 853, 16.00%)\n",
      "    - Test  : 2018-09-04 ~ 2022-10-31 (1067, 20.01%)\n"
     ]
    }
   ],
   "source": [
    "N = X_train.shape[0] + X_valid.shape[0] + X_test.shape[0]\n",
    "_, T, D = X_train.shape\n",
    "print(f'Data shape : (*, {T}, {D})')\n",
    "print(f'    - Train : {train_dates[0]} ~ {train_dates[-1]} ({X_train.__len__():>4d}, {X_train.__len__()/N*100:.2f}%)')\n",
    "print(f'    - Valid : {valid_dates[0]} ~ {valid_dates[-1]} ({X_valid.__len__():>4d}, {X_valid.__len__()/N*100:.2f}%)')\n",
    "print(f'    - Test  : {test_dates[0]} ~ {test_dates[-1]} ({X_test.__len__():>4d}, {X_test.__len__()/N*100:.2f}%)')"
   ]
  },
  {
   "cell_type": "markdown",
   "id": "f08d7a6a",
   "metadata": {},
   "source": [
    "- Raw data for the visualization"
   ]
  },
  {
   "cell_type": "code",
   "execution_count": 8,
   "id": "7b705740",
   "metadata": {
    "ExecuteTime": {
     "end_time": "2022-12-13T13:25:57.052594Z",
     "start_time": "2022-12-13T13:25:56.263644Z"
    },
    "scrolled": true
   },
   "outputs": [],
   "source": [
    "from preprocess import *\n",
    "\n",
    "raw_data = load_data('./data/USD2FX_BIS_daily_avg.csv', \n",
    "                     start_date = '2002-01-01', \n",
    "                     end_date = '2022-10-31'\n",
    "                    )\n",
    "raw_data = cleanse_data(raw_data)"
   ]
  },
  {
   "cell_type": "markdown",
   "id": "8b4d3409",
   "metadata": {},
   "source": [
    "---"
   ]
  },
  {
   "cell_type": "code",
   "execution_count": 9,
   "id": "fc8115c5",
   "metadata": {
    "ExecuteTime": {
     "end_time": "2022-12-13T13:25:57.084508Z",
     "start_time": "2022-12-13T13:25:57.053591Z"
    }
   },
   "outputs": [],
   "source": [
    "from encoder import Encoder\n",
    "from itertools import product"
   ]
  },
  {
   "cell_type": "code",
   "execution_count": 10,
   "id": "14144b8e",
   "metadata": {
    "ExecuteTime": {
     "end_time": "2022-12-13T13:25:57.131382Z",
     "start_time": "2022-12-13T13:25:57.085505Z"
    }
   },
   "outputs": [],
   "source": [
    "from sklearn.cluster import DBSCAN\n",
    "from sklearn.metrics import silhouette_score"
   ]
  },
  {
   "cell_type": "code",
   "execution_count": 11,
   "id": "707ad86d",
   "metadata": {
    "ExecuteTime": {
     "end_time": "2022-12-13T13:25:57.147340Z",
     "start_time": "2022-12-13T13:25:57.132380Z"
    }
   },
   "outputs": [],
   "source": [
    "manifold_names = {'euclidean':'Euclidean', \n",
    "                  'p_plane':'Poincare-Halfplane', \n",
    "                  'sphere':'Hypersphere'}"
   ]
  },
  {
   "cell_type": "markdown",
   "id": "a7d4568b",
   "metadata": {},
   "source": [
    "- Training"
   ]
  },
  {
   "cell_type": "code",
   "execution_count": 12,
   "id": "7247f2fc",
   "metadata": {
    "ExecuteTime": {
     "end_time": "2022-12-13T13:25:57.163297Z",
     "start_time": "2022-12-13T13:25:57.148337Z"
    }
   },
   "outputs": [],
   "source": [
    "dim_data = (T, D)\n",
    "layer_configs = {}\n",
    "\n",
    "candidates = list(product(['sphere', 'p_plane', 'euclidean'], \n",
    "                          list(range(16, 37))))\n",
    "\n",
    "data = torch.cat((X_train, X_valid, X_test)) \n",
    "\n",
    "N, _, _ = data.shape"
   ]
  },
  {
   "cell_type": "code",
   "execution_count": 13,
   "id": "40b330ff",
   "metadata": {
    "ExecuteTime": {
     "end_time": "2022-12-13T13:25:57.179254Z",
     "start_time": "2022-12-13T13:25:57.164294Z"
    }
   },
   "outputs": [],
   "source": [
    "def compute_pairwise_distance(X, encoder):\n",
    "    dist = torch.zeros((N, N))\n",
    "    for i in range(N):\n",
    "        repeated = emb[[i]].repeat(N, 1)\n",
    "        dist_i = model.manifold.distance(repeated, emb)\n",
    "        dist[i] = dist_i\n",
    "    \n",
    "    return dist"
   ]
  },
  {
   "cell_type": "code",
   "execution_count": 14,
   "id": "2745c755",
   "metadata": {
    "ExecuteTime": {
     "end_time": "2022-12-13T13:37:29.346584Z",
     "start_time": "2022-12-13T13:25:57.181249Z"
    }
   },
   "outputs": [
    {
     "data": {
      "application/vnd.jupyter.widget-view+json": {
       "model_id": "9718be72c12242dda373f9b27c5c3567",
       "version_major": 2,
       "version_minor": 0
      },
      "text/plain": [
       "  0%|          | 0/63 [00:00<?, ?it/s]"
      ]
     },
     "metadata": {},
     "output_type": "display_data"
    }
   ],
   "source": [
    "try:\n",
    "    # Load clustering result\n",
    "    clst_results = pd.read_csv('./results/clustering/clustering_results_by_model.csv')\n",
    "except:\n",
    "    save_dir = './results/clustering/computed_distance_by_model.h5'\n",
    "    try:\n",
    "        # Load precomputed distance by model\n",
    "        dist_by_models = torch.load(save_dir)\n",
    "    except:\n",
    "        dist_by_models = {}\n",
    "        \n",
    "        # Compute distance\n",
    "        for target_manifold, dim_embedding in tqdm(candidates):\n",
    "            model_name = '_'.join([manifold_names[target_manifold], f'dim-{dim_embedding}'])\n",
    "\n",
    "            best_ckpt = torch.load(model_dir +'best/' + model_name + '_best.pt')\n",
    "\n",
    "            model = Encoder(dim_data, dim_embedding, target_manifold=target_manifold,\n",
    "                            layer_configs=layer_configs, device=device)\n",
    "            model.load_state_dict(best_ckpt['state_dict'])\n",
    "            model.eval()\n",
    "            emb = model(data).detach().cpu()\n",
    "\n",
    "            dist = compute_pairwise_distance(data, model)\n",
    "\n",
    "            dist_by_models[model_name] = dist.numpy()\n",
    "        \n",
    "        # Save the computed distance\n",
    "        torch.save(dist_by_models, save_dir)\n",
    "    \n",
    "    model_names = list(dist_by_models.keys())\n",
    "    clst_results = pd.DataFrame(np.zeros((dist_by_models.keys().__len__(), 5)), \n",
    "                            columns=['Manifold', 'Dimension', 'Opt_EPS', 'n_clusters', 'Sil_Coef']\n",
    "                           )\n",
    "    \n",
    "    for i in trange(dist_by_models.__len__()):\n",
    "        model_name = model_names[i]\n",
    "        manifold, dim = model_name.split('_')\n",
    "        dim = int(dim.split('-')[-1])\n",
    "        dist = dist_by_models[model_name]\n",
    "        for eps in np.linspace(.5, 1e-5, 100):\n",
    "            dbscan = DBSCAN(eps=eps, metric='precomputed', n_jobs=-1)\n",
    "            clst_labels = dbscan.fit_predict(dist)\n",
    "            n_labels = np.unique(dbscan.labels_).__len__()\n",
    "            if n_labels == 5:\n",
    "                sil_coef = silhouette_score(dist, clst_labels)\n",
    "                break\n",
    "        clst_results.iloc[i] = [manifold, dim, eps, n_labels, sil_coef]\n",
    "    \n",
    "    clst_results.to_csv('./results/clustering/clustering_results_by_model.csv', index=False)"
   ]
  },
  {
   "cell_type": "code",
   "execution_count": 15,
   "id": "03f4620e",
   "metadata": {
    "ExecuteTime": {
     "end_time": "2022-12-13T13:37:29.362541Z",
     "start_time": "2022-12-13T13:37:29.347580Z"
    }
   },
   "outputs": [
    {
     "data": {
      "text/html": [
       "<div>\n",
       "<style scoped>\n",
       "    .dataframe tbody tr th:only-of-type {\n",
       "        vertical-align: middle;\n",
       "    }\n",
       "\n",
       "    .dataframe tbody tr th {\n",
       "        vertical-align: top;\n",
       "    }\n",
       "\n",
       "    .dataframe thead th {\n",
       "        text-align: right;\n",
       "    }\n",
       "</style>\n",
       "<table border=\"1\" class=\"dataframe\">\n",
       "  <thead>\n",
       "    <tr style=\"text-align: right;\">\n",
       "      <th></th>\n",
       "      <th>Manifold</th>\n",
       "      <th>Dimension</th>\n",
       "      <th>Opt_EPS</th>\n",
       "      <th>n_clusters</th>\n",
       "      <th>Sil_Coef</th>\n",
       "    </tr>\n",
       "  </thead>\n",
       "  <tbody>\n",
       "    <tr>\n",
       "      <th>0</th>\n",
       "      <td>Hypersphere</td>\n",
       "      <td>16.0</td>\n",
       "      <td>0.363639</td>\n",
       "      <td>5.0</td>\n",
       "      <td>-0.206433</td>\n",
       "    </tr>\n",
       "    <tr>\n",
       "      <th>1</th>\n",
       "      <td>Hypersphere</td>\n",
       "      <td>17.0</td>\n",
       "      <td>0.323236</td>\n",
       "      <td>5.0</td>\n",
       "      <td>-0.225058</td>\n",
       "    </tr>\n",
       "    <tr>\n",
       "      <th>2</th>\n",
       "      <td>Hypersphere</td>\n",
       "      <td>18.0</td>\n",
       "      <td>0.277782</td>\n",
       "      <td>5.0</td>\n",
       "      <td>-0.284016</td>\n",
       "    </tr>\n",
       "    <tr>\n",
       "      <th>3</th>\n",
       "      <td>Hypersphere</td>\n",
       "      <td>19.0</td>\n",
       "      <td>0.267681</td>\n",
       "      <td>5.0</td>\n",
       "      <td>-0.203608</td>\n",
       "    </tr>\n",
       "    <tr>\n",
       "      <th>4</th>\n",
       "      <td>Hypersphere</td>\n",
       "      <td>20.0</td>\n",
       "      <td>0.328286</td>\n",
       "      <td>5.0</td>\n",
       "      <td>-0.173610</td>\n",
       "    </tr>\n",
       "    <tr>\n",
       "      <th>...</th>\n",
       "      <td>...</td>\n",
       "      <td>...</td>\n",
       "      <td>...</td>\n",
       "      <td>...</td>\n",
       "      <td>...</td>\n",
       "    </tr>\n",
       "    <tr>\n",
       "      <th>58</th>\n",
       "      <td>Euclidean</td>\n",
       "      <td>32.0</td>\n",
       "      <td>0.282833</td>\n",
       "      <td>5.0</td>\n",
       "      <td>-0.190898</td>\n",
       "    </tr>\n",
       "    <tr>\n",
       "      <th>59</th>\n",
       "      <td>Euclidean</td>\n",
       "      <td>33.0</td>\n",
       "      <td>0.000010</td>\n",
       "      <td>1.0</td>\n",
       "      <td>-0.190898</td>\n",
       "    </tr>\n",
       "    <tr>\n",
       "      <th>60</th>\n",
       "      <td>Euclidean</td>\n",
       "      <td>34.0</td>\n",
       "      <td>0.247480</td>\n",
       "      <td>5.0</td>\n",
       "      <td>0.293817</td>\n",
       "    </tr>\n",
       "    <tr>\n",
       "      <th>61</th>\n",
       "      <td>Euclidean</td>\n",
       "      <td>35.0</td>\n",
       "      <td>0.000010</td>\n",
       "      <td>1.0</td>\n",
       "      <td>0.293817</td>\n",
       "    </tr>\n",
       "    <tr>\n",
       "      <th>62</th>\n",
       "      <td>Euclidean</td>\n",
       "      <td>36.0</td>\n",
       "      <td>0.383841</td>\n",
       "      <td>5.0</td>\n",
       "      <td>-0.325029</td>\n",
       "    </tr>\n",
       "  </tbody>\n",
       "</table>\n",
       "<p>63 rows × 5 columns</p>\n",
       "</div>"
      ],
      "text/plain": [
       "       Manifold  Dimension   Opt_EPS  n_clusters  Sil_Coef\n",
       "0   Hypersphere       16.0  0.363639         5.0 -0.206433\n",
       "1   Hypersphere       17.0  0.323236         5.0 -0.225058\n",
       "2   Hypersphere       18.0  0.277782         5.0 -0.284016\n",
       "3   Hypersphere       19.0  0.267681         5.0 -0.203608\n",
       "4   Hypersphere       20.0  0.328286         5.0 -0.173610\n",
       "..          ...        ...       ...         ...       ...\n",
       "58    Euclidean       32.0  0.282833         5.0 -0.190898\n",
       "59    Euclidean       33.0  0.000010         1.0 -0.190898\n",
       "60    Euclidean       34.0  0.247480         5.0  0.293817\n",
       "61    Euclidean       35.0  0.000010         1.0  0.293817\n",
       "62    Euclidean       36.0  0.383841         5.0 -0.325029\n",
       "\n",
       "[63 rows x 5 columns]"
      ]
     },
     "execution_count": 15,
     "metadata": {},
     "output_type": "execute_result"
    }
   ],
   "source": [
    "clst_results"
   ]
  },
  {
   "cell_type": "code",
   "execution_count": 21,
   "id": "c14f597f",
   "metadata": {
    "ExecuteTime": {
     "end_time": "2022-12-13T13:54:32.118665Z",
     "start_time": "2022-12-13T13:54:32.089986Z"
    }
   },
   "outputs": [
    {
     "data": {
      "text/html": [
       "<div>\n",
       "<style scoped>\n",
       "    .dataframe tbody tr th:only-of-type {\n",
       "        vertical-align: middle;\n",
       "    }\n",
       "\n",
       "    .dataframe tbody tr th {\n",
       "        vertical-align: top;\n",
       "    }\n",
       "\n",
       "    .dataframe thead th {\n",
       "        text-align: right;\n",
       "    }\n",
       "</style>\n",
       "<table border=\"1\" class=\"dataframe\">\n",
       "  <thead>\n",
       "    <tr style=\"text-align: right;\">\n",
       "      <th></th>\n",
       "      <th></th>\n",
       "      <th>Dimension</th>\n",
       "      <th>Opt_EPS</th>\n",
       "      <th>Sil_Coef</th>\n",
       "    </tr>\n",
       "    <tr>\n",
       "      <th>n_clusters</th>\n",
       "      <th>Manifold</th>\n",
       "      <th></th>\n",
       "      <th></th>\n",
       "      <th></th>\n",
       "    </tr>\n",
       "  </thead>\n",
       "  <tbody>\n",
       "    <tr>\n",
       "      <th rowspan=\"3\" valign=\"top\">1.0</th>\n",
       "      <th>Euclidean</th>\n",
       "      <td>6</td>\n",
       "      <td>6</td>\n",
       "      <td>6</td>\n",
       "    </tr>\n",
       "    <tr>\n",
       "      <th>Hypersphere</th>\n",
       "      <td>1</td>\n",
       "      <td>1</td>\n",
       "      <td>1</td>\n",
       "    </tr>\n",
       "    <tr>\n",
       "      <th>Poincare-Halfplane</th>\n",
       "      <td>14</td>\n",
       "      <td>14</td>\n",
       "      <td>14</td>\n",
       "    </tr>\n",
       "    <tr>\n",
       "      <th rowspan=\"3\" valign=\"top\">5.0</th>\n",
       "      <th>Euclidean</th>\n",
       "      <td>15</td>\n",
       "      <td>15</td>\n",
       "      <td>15</td>\n",
       "    </tr>\n",
       "    <tr>\n",
       "      <th>Hypersphere</th>\n",
       "      <td>20</td>\n",
       "      <td>20</td>\n",
       "      <td>20</td>\n",
       "    </tr>\n",
       "    <tr>\n",
       "      <th>Poincare-Halfplane</th>\n",
       "      <td>7</td>\n",
       "      <td>7</td>\n",
       "      <td>7</td>\n",
       "    </tr>\n",
       "  </tbody>\n",
       "</table>\n",
       "</div>"
      ],
      "text/plain": [
       "                               Dimension  Opt_EPS  Sil_Coef\n",
       "n_clusters Manifold                                        \n",
       "1.0        Euclidean                   6        6         6\n",
       "           Hypersphere                 1        1         1\n",
       "           Poincare-Halfplane         14       14        14\n",
       "5.0        Euclidean                  15       15        15\n",
       "           Hypersphere                20       20        20\n",
       "           Poincare-Halfplane          7        7         7"
      ]
     },
     "execution_count": 21,
     "metadata": {},
     "output_type": "execute_result"
    }
   ],
   "source": [
    "clst_results.groupby(['n_clusters', 'Manifold']).count()"
   ]
  },
  {
   "cell_type": "code",
   "execution_count": 24,
   "id": "c5bb0673",
   "metadata": {
    "ExecuteTime": {
     "end_time": "2022-12-13T13:58:30.659391Z",
     "start_time": "2022-12-13T13:58:30.648459Z"
    }
   },
   "outputs": [
    {
     "data": {
      "text/html": [
       "<div>\n",
       "<style scoped>\n",
       "    .dataframe tbody tr th:only-of-type {\n",
       "        vertical-align: middle;\n",
       "    }\n",
       "\n",
       "    .dataframe tbody tr th {\n",
       "        vertical-align: top;\n",
       "    }\n",
       "\n",
       "    .dataframe thead th {\n",
       "        text-align: right;\n",
       "    }\n",
       "</style>\n",
       "<table border=\"1\" class=\"dataframe\">\n",
       "  <thead>\n",
       "    <tr style=\"text-align: right;\">\n",
       "      <th></th>\n",
       "      <th>Manifold</th>\n",
       "      <th>Dimension</th>\n",
       "      <th>Opt_EPS</th>\n",
       "      <th>n_clusters</th>\n",
       "      <th>Sil_Coef</th>\n",
       "    </tr>\n",
       "  </thead>\n",
       "  <tbody>\n",
       "    <tr>\n",
       "      <th>45</th>\n",
       "      <td>Euclidean</td>\n",
       "      <td>19.0</td>\n",
       "      <td>0.171724</td>\n",
       "      <td>5.0</td>\n",
       "      <td>0.558571</td>\n",
       "    </tr>\n",
       "    <tr>\n",
       "      <th>46</th>\n",
       "      <td>Euclidean</td>\n",
       "      <td>20.0</td>\n",
       "      <td>0.000010</td>\n",
       "      <td>1.0</td>\n",
       "      <td>0.558571</td>\n",
       "    </tr>\n",
       "    <tr>\n",
       "      <th>53</th>\n",
       "      <td>Euclidean</td>\n",
       "      <td>27.0</td>\n",
       "      <td>0.297984</td>\n",
       "      <td>5.0</td>\n",
       "      <td>0.381625</td>\n",
       "    </tr>\n",
       "    <tr>\n",
       "      <th>54</th>\n",
       "      <td>Euclidean</td>\n",
       "      <td>28.0</td>\n",
       "      <td>0.318185</td>\n",
       "      <td>5.0</td>\n",
       "      <td>0.306429</td>\n",
       "    </tr>\n",
       "    <tr>\n",
       "      <th>60</th>\n",
       "      <td>Euclidean</td>\n",
       "      <td>34.0</td>\n",
       "      <td>0.247480</td>\n",
       "      <td>5.0</td>\n",
       "      <td>0.293817</td>\n",
       "    </tr>\n",
       "    <tr>\n",
       "      <th>61</th>\n",
       "      <td>Euclidean</td>\n",
       "      <td>35.0</td>\n",
       "      <td>0.000010</td>\n",
       "      <td>1.0</td>\n",
       "      <td>0.293817</td>\n",
       "    </tr>\n",
       "    <tr>\n",
       "      <th>6</th>\n",
       "      <td>Hypersphere</td>\n",
       "      <td>22.0</td>\n",
       "      <td>0.287883</td>\n",
       "      <td>5.0</td>\n",
       "      <td>0.191469</td>\n",
       "    </tr>\n",
       "    <tr>\n",
       "      <th>49</th>\n",
       "      <td>Euclidean</td>\n",
       "      <td>23.0</td>\n",
       "      <td>0.242429</td>\n",
       "      <td>5.0</td>\n",
       "      <td>0.137339</td>\n",
       "    </tr>\n",
       "  </tbody>\n",
       "</table>\n",
       "</div>"
      ],
      "text/plain": [
       "       Manifold  Dimension   Opt_EPS  n_clusters  Sil_Coef\n",
       "45    Euclidean       19.0  0.171724         5.0  0.558571\n",
       "46    Euclidean       20.0  0.000010         1.0  0.558571\n",
       "53    Euclidean       27.0  0.297984         5.0  0.381625\n",
       "54    Euclidean       28.0  0.318185         5.0  0.306429\n",
       "60    Euclidean       34.0  0.247480         5.0  0.293817\n",
       "61    Euclidean       35.0  0.000010         1.0  0.293817\n",
       "6   Hypersphere       22.0  0.287883         5.0  0.191469\n",
       "49    Euclidean       23.0  0.242429         5.0  0.137339"
      ]
     },
     "execution_count": 24,
     "metadata": {},
     "output_type": "execute_result"
    }
   ],
   "source": [
    "clst_results[clst_results.Sil_Coef > 0].sort_values('Sil_Coef', ascending=False)"
   ]
  },
  {
   "cell_type": "code",
   "execution_count": null,
   "id": "effdd008",
   "metadata": {},
   "outputs": [],
   "source": []
  },
  {
   "cell_type": "code",
   "execution_count": null,
   "id": "6fd7aef3",
   "metadata": {
    "ExecuteTime": {
     "end_time": "2022-12-13T13:37:29.521259Z",
     "start_time": "2022-12-13T13:37:29.521259Z"
    }
   },
   "outputs": [],
   "source": [
    "transition_dates = []\n",
    "transition_idx = []\n",
    "for i, clst in enumerate(clst_labels):\n",
    "    if not i:\n",
    "        prev_clst = clst\n",
    "        continue\n",
    "    if clst != prev_clst:\n",
    "        transition_dates.append(dates[i])\n",
    "        transition_idx.append(i)\n",
    "    \n",
    "    prev_clst = clst"
   ]
  },
  {
   "cell_type": "code",
   "execution_count": null,
   "id": "bddcdfdb",
   "metadata": {
    "ExecuteTime": {
     "end_time": "2022-12-13T13:37:29.522256Z",
     "start_time": "2022-12-13T13:37:29.522256Z"
    }
   },
   "outputs": [],
   "source": [
    "raw_data.columns"
   ]
  },
  {
   "cell_type": "code",
   "execution_count": null,
   "id": "8fff4097",
   "metadata": {
    "ExecuteTime": {
     "end_time": "2022-12-13T13:37:29.523261Z",
     "start_time": "2022-12-13T13:37:29.523261Z"
    }
   },
   "outputs": [],
   "source": [
    "recent_idx = raw_data.index.tolist().index('2020-01-02')\n",
    "\n",
    "fig, ax = plt.subplots(figsize=(20, 10))\n",
    "\n",
    "selected = raw_data[['KRW', 'JPY', 'CNY', 'HKD', 'EUR', 'GBP', 'CHF', 'RUB']].copy()\n",
    "selected /= selected.values[recent_idx]\n",
    "for idx in transition_idx:\n",
    "    plt.axvline(idx, c='grey', linewidth=.5, linestyle=':')\n",
    "selected.plot(ax=ax)\n",
    "plt.xlim([0, selected.shape[0]])\n",
    "plt.show()"
   ]
  }
 ],
 "metadata": {
  "kernelspec": {
   "display_name": "GM4HDDA",
   "language": "python",
   "name": "gm4hdda"
  },
  "language_info": {
   "codemirror_mode": {
    "name": "ipython",
    "version": 3
   },
   "file_extension": ".py",
   "mimetype": "text/x-python",
   "name": "python",
   "nbconvert_exporter": "python",
   "pygments_lexer": "ipython3",
   "version": "3.7.15"
  },
  "toc": {
   "base_numbering": 1,
   "nav_menu": {},
   "number_sections": true,
   "sideBar": true,
   "skip_h1_title": false,
   "title_cell": "Table of Contents",
   "title_sidebar": "Contents",
   "toc_cell": false,
   "toc_position": {},
   "toc_section_display": true,
   "toc_window_display": false
  }
 },
 "nbformat": 4,
 "nbformat_minor": 5
}
