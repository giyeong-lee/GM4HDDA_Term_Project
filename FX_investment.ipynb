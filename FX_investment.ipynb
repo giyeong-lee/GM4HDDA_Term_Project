{
 "cells": [
  {
   "cell_type": "code",
   "execution_count": 1,
   "id": "bd61396b",
   "metadata": {
    "ExecuteTime": {
     "end_time": "2022-12-12T17:28:51.155444Z",
     "start_time": "2022-12-12T17:28:51.149443Z"
    }
   },
   "outputs": [],
   "source": [
    "base_dir = './'\n",
    "fig_dir = './figures/'\n",
    "model_dir = './models/'"
   ]
  },
  {
   "cell_type": "code",
   "execution_count": 2,
   "id": "af0c8166",
   "metadata": {
    "ExecuteTime": {
     "end_time": "2022-12-12T17:28:51.171447Z",
     "start_time": "2022-12-12T17:28:51.156444Z"
    }
   },
   "outputs": [],
   "source": [
    "import os\n",
    "import sys\n",
    "\n",
    "sys.path.insert(0, os.getcwd() + '\\\\src')"
   ]
  },
  {
   "cell_type": "code",
   "execution_count": 3,
   "id": "b3a34546",
   "metadata": {
    "ExecuteTime": {
     "end_time": "2022-12-12T17:28:51.955622Z",
     "start_time": "2022-12-12T17:28:51.173447Z"
    }
   },
   "outputs": [],
   "source": [
    "import pandas as pd\n",
    "import matplotlib.pyplot as plt\n",
    "from tqdm.notebook import trange"
   ]
  },
  {
   "cell_type": "markdown",
   "id": "7a5a6268",
   "metadata": {},
   "source": [
    "---"
   ]
  },
  {
   "cell_type": "code",
   "execution_count": 4,
   "id": "4ee2d92c",
   "metadata": {
    "ExecuteTime": {
     "end_time": "2022-12-12T17:28:52.767813Z",
     "start_time": "2022-12-12T17:28:51.957623Z"
    }
   },
   "outputs": [],
   "source": [
    "import torch\n",
    "import torch.nn as nn\n",
    "import torch.nn.functional as F"
   ]
  },
  {
   "cell_type": "code",
   "execution_count": 5,
   "id": "38d4b74e",
   "metadata": {
    "ExecuteTime": {
     "end_time": "2022-12-12T17:28:52.799077Z",
     "start_time": "2022-12-12T17:28:52.768812Z"
    }
   },
   "outputs": [
    {
     "name": "stdout",
     "output_type": "stream",
     "text": [
      "CUDA available : True\n"
     ]
    }
   ],
   "source": [
    "print('CUDA available :', torch.cuda.is_available())\n",
    "# device = torch.device('cpu')\n",
    "device = torch.device('cuda')"
   ]
  },
  {
   "cell_type": "code",
   "execution_count": 6,
   "id": "1f412ba6",
   "metadata": {
    "ExecuteTime": {
     "end_time": "2022-12-12T17:28:52.831084Z",
     "start_time": "2022-12-12T17:28:52.800078Z"
    }
   },
   "outputs": [],
   "source": [
    "n_timestamps = 5\n",
    "lag = 1\n",
    "\n",
    "data_dir = f'./data/n_timestamps_{n_timestamps}__lag_{lag}/' + 'data_split.pt'\n",
    "\n",
    "data_split = torch.load(data_dir)\n",
    "train_data, train_pos_enc, train_dates = data_split['train'].values()\n",
    "valid_data, valid_pos_enc, valid_dates = data_split['valid'].values()\n",
    "test_data, test_pos_enc, test_dates = data_split['test'].values()\n",
    "\n",
    "# Concat Date Positional Encoding\n",
    "X_train = torch.cat((train_data, train_pos_enc), dim=-1)\n",
    "X_valid = torch.cat((valid_data, valid_pos_enc), dim=-1)\n",
    "X_test = torch.cat((test_data, test_pos_enc), dim=-1)\n",
    "\n",
    "# Get currency names\n",
    "currency_names = pd.read_csv(f'./data/n_timestamps_{n_timestamps}__lag_{lag}/cleansed_data.csv').columns.tolist()\n",
    "\n",
    "del data_split"
   ]
  },
  {
   "cell_type": "code",
   "execution_count": 7,
   "id": "ebf7f508",
   "metadata": {
    "ExecuteTime": {
     "end_time": "2022-12-12T17:28:52.847088Z",
     "start_time": "2022-12-12T17:28:52.832085Z"
    }
   },
   "outputs": [
    {
     "name": "stdout",
     "output_type": "stream",
     "text": [
      "Data shape : (*, 5, 36)\n",
      "    - Train : 2002-01-08 ~ 2015-05-07 (3412, 63.99%)\n",
      "    - Valid : 2015-05-08 ~ 2018-09-03 ( 853, 16.00%)\n",
      "    - Test  : 2018-09-04 ~ 2022-10-31 (1067, 20.01%)\n"
     ]
    }
   ],
   "source": [
    "N = X_train.shape[0] + X_valid.shape[0] + X_test.shape[0]\n",
    "_, T, D = X_train.shape\n",
    "print(f'Data shape : (*, {T}, {D})')\n",
    "print(f'    - Train : {train_dates[0]} ~ {train_dates[-1]} ({X_train.__len__():>4d}, {X_train.__len__()/N*100:.2f}%)')\n",
    "print(f'    - Valid : {valid_dates[0]} ~ {valid_dates[-1]} ({X_valid.__len__():>4d}, {X_valid.__len__()/N*100:.2f}%)')\n",
    "print(f'    - Test  : {test_dates[0]} ~ {test_dates[-1]} ({X_test.__len__():>4d}, {X_test.__len__()/N*100:.2f}%)')"
   ]
  },
  {
   "cell_type": "markdown",
   "id": "8b4d3409",
   "metadata": {},
   "source": [
    "---"
   ]
  },
  {
   "cell_type": "code",
   "execution_count": 8,
   "id": "fc8115c5",
   "metadata": {
    "ExecuteTime": {
     "end_time": "2022-12-12T17:28:52.895098Z",
     "start_time": "2022-12-12T17:28:52.848088Z"
    }
   },
   "outputs": [],
   "source": [
    "from encoder import Encoder\n",
    "from investment import Investment\n",
    "from itertools import product"
   ]
  },
  {
   "cell_type": "code",
   "execution_count": 9,
   "id": "707ad86d",
   "metadata": {
    "ExecuteTime": {
     "end_time": "2022-12-12T17:28:52.911102Z",
     "start_time": "2022-12-12T17:28:52.896099Z"
    }
   },
   "outputs": [],
   "source": [
    "manifold_names = {'euclidean':'Euclidean', \n",
    "                  'p_plane':'Poincare-Halfplane', \n",
    "                  'sphere':'Hypersphere'}"
   ]
  },
  {
   "cell_type": "markdown",
   "id": "a7d4568b",
   "metadata": {},
   "source": [
    "- Training"
   ]
  },
  {
   "cell_type": "code",
   "execution_count": 10,
   "id": "7247f2fc",
   "metadata": {
    "ExecuteTime": {
     "end_time": "2022-12-12T17:28:52.927106Z",
     "start_time": "2022-12-12T17:28:52.914103Z"
    }
   },
   "outputs": [],
   "source": [
    "dim_data = (T, D)\n",
    "layer_configs = {}\n",
    "\n",
    "candidates = list(product(['sphere', 'p_plane', 'euclidean'], \n",
    "                          list(range(20, 40, 4))))"
   ]
  },
  {
   "cell_type": "code",
   "execution_count": 11,
   "id": "56be9a86",
   "metadata": {
    "ExecuteTime": {
     "end_time": "2022-12-12T17:28:52.943110Z",
     "start_time": "2022-12-12T17:28:52.928106Z"
    }
   },
   "outputs": [],
   "source": [
    "# for target_manifold, dim_embedding in candidates:\n",
    "#     print('target_manifold :', target_manifold, ', dim_embedding :', dim_embedding)\n",
    "#     model_name = '_'.join([manifold_names[target_manifold], f'dim-{dim_embedding}'])\n",
    "\n",
    "#     best_ckpt = torch.load(model_dir + model_name + '/checkpoint/best.pt')\n",
    "\n",
    "#     model = Encoder(dim_data, dim_embedding, target_manifold=target_manifold,\n",
    "#                     layer_configs=layer_configs, device=device)\n",
    "#     model.load_state_dict(best_ckpt['state_dict'])\n",
    "    \n",
    "#     investment = Investment(model, num_currencies=D-2)\n",
    "#     investment.fit(X_train, X_valid, 500, 60, save_name=model_name + '_investment.pt')"
   ]
  },
  {
   "cell_type": "markdown",
   "id": "d4c71507",
   "metadata": {},
   "source": [
    "- Evaluation"
   ]
  },
  {
   "cell_type": "code",
   "execution_count": 12,
   "id": "6a1dd96f",
   "metadata": {
    "ExecuteTime": {
     "end_time": "2022-12-12T17:28:52.959113Z",
     "start_time": "2022-12-12T17:28:52.944110Z"
    }
   },
   "outputs": [],
   "source": [
    "def investment_on_dataset(data, target_manifold, dim_embedding,\n",
    "                          ckpt='best', portfolio_as=None, dates=None):\n",
    "    \n",
    "    model_name = '_'.join([manifold_names[target_manifold], f'dim-{dim_embedding}'])\n",
    "    ckpt = torch.load(model_dir + model_name + f'/checkpoint/{ckpt}.pt')\n",
    "    \n",
    "    model = Encoder(dim_data, dim_embedding, target_manifold=target_manifold,\n",
    "                    layer_configs=layer_configs, device=device)\n",
    "    model.load_state_dict(ckpt['state_dict'])\n",
    "\n",
    "    investment = Investment(model, num_currencies=D-2)\n",
    "    investment.rebalance.load_state_dict(torch.load('./results/investment/models/'+model_name+'_investment.pt'))\n",
    "    investment.rebalance.eval()\n",
    "\n",
    "    neg_sharpe_ratio, position_values, portfolios = investment._trade(data)\n",
    "    sharpe_ratio = - neg_sharpe_ratio.item()\n",
    "    \n",
    "    if portfolio_as == 'dataframe':\n",
    "        assert dates is not None, '\"dates\" is required.'\n",
    "        portfolios = pd.DataFrame(portfolios.detach().cpu().numpy(), \n",
    "                                     index=dates[1:], \n",
    "                                     columns = ['USD'] + currency_names\n",
    "                                    )\n",
    "        portfolios.index.name = 'Date'\n",
    "        portfolios.index = pd.to_datetime(portfolios.index)\n",
    "        \n",
    "    return sharpe_ratio, position_values.detach().cpu(), portfolios"
   ]
  },
  {
   "cell_type": "code",
   "execution_count": 13,
   "id": "847655e4",
   "metadata": {
    "ExecuteTime": {
     "end_time": "2022-12-12T17:28:52.975116Z",
     "start_time": "2022-12-12T17:28:52.960114Z"
    }
   },
   "outputs": [],
   "source": [
    "def eval_investment_by_model(candidates, data_type):\n",
    "    try:\n",
    "        PV_by_model = torch.load(f'./results/investment/investment_on_{data_type}.pt')\n",
    "    except:\n",
    "        dim_data = (T, D)\n",
    "        layer_configs = {}\n",
    "        if data_type == 'valid':\n",
    "            data = X_valid\n",
    "            dates = valid_dates\n",
    "        elif data_type == 'test':\n",
    "            data = X_test\n",
    "            dates = test_dates\n",
    "        else:\n",
    "            raise ValueError(f'Unknown value for \"data_type\" : {data_type}')\n",
    "        \n",
    "        PV_by_model = {'Date':dates}\n",
    "        PFO_by_model = {'Date':dates}\n",
    "\n",
    "        for target_manifold, dim_embedding in candidates:\n",
    "            model_name = '_'.join([manifold_names[target_manifold], f'dim-{dim_embedding}'])\n",
    "            SR, PV, PFO = investment_on_dataset(data, target_manifold, dim_embedding,\n",
    "                                                ckpt='best', portfolio_as='dataframe', dates=dates\n",
    "                                                                 )\n",
    "            PV_by_model[model_name] = PV.tolist()\n",
    "            PFO_by_model[model_name] = PFO\n",
    "\n",
    "        torch.save(PV_by_model, f'./results/investment/investment_on_{data_type}.pt')\n",
    "        \n",
    "    return PV_by_model, PFO_by_model"
   ]
  },
  {
   "cell_type": "code",
   "execution_count": 14,
   "id": "50c6e611",
   "metadata": {
    "ExecuteTime": {
     "end_time": "2022-12-12T17:28:52.991120Z",
     "start_time": "2022-12-12T17:28:52.976117Z"
    },
    "scrolled": true
   },
   "outputs": [],
   "source": [
    "try:\n",
    "    PV_valid_by_model = torch.load('./results/investment/investment_on_valid.pt')\n",
    "except:\n",
    "    PV_valid_by_model, PFO_valid_by_model = eval_investment_by_model(candidates, 'valid')\n",
    "    \n",
    "    torch.save(PV_valid_by_model, './results/investment/investment_on_valid.pt')\n",
    "    \n",
    "try:\n",
    "    PV_test_by_model = torch.load('./results/investment/investment_on_test.pt')\n",
    "except:\n",
    "    PV_test_by_model, PFO_test_by_model = eval_investment_by_model(candidates, 'test')\n",
    "    \n",
    "    torch.save(PV_test_by_model, './results/investment/investment_on_test.pt')"
   ]
  },
  {
   "cell_type": "code",
   "execution_count": 15,
   "id": "c73b7471",
   "metadata": {
    "ExecuteTime": {
     "end_time": "2022-12-12T17:28:53.007124Z",
     "start_time": "2022-12-12T17:28:52.992121Z"
    }
   },
   "outputs": [],
   "source": [
    "def get_marker(manifold_name):\n",
    "    if manifold_name == 'sphere':\n",
    "        marker = 'o'\n",
    "    elif manifold_name == 'euclidean':\n",
    "        marker = 's'\n",
    "    else:\n",
    "        marker = 'v'\n",
    "    return marker"
   ]
  },
  {
   "cell_type": "code",
   "execution_count": 16,
   "id": "1b010d64",
   "metadata": {
    "ExecuteTime": {
     "end_time": "2022-12-12T17:28:53.023130Z",
     "start_time": "2022-12-12T17:28:53.008125Z"
    }
   },
   "outputs": [],
   "source": [
    "def viz_investment_performance(data_type):\n",
    "    if data_type == 'valid':\n",
    "        data_name = 'Validation'\n",
    "        PV_by_model = PV_valid_by_model\n",
    "    elif data_type == 'test':\n",
    "        data_name = 'Test'\n",
    "        PV_by_model = PV_test_by_model\n",
    "    else:\n",
    "        raise ValueError(f'Unknown value for \"data_type\" : {data_type}')\n",
    "        \n",
    "    df_PV = pd.DataFrame(PV_by_model)\n",
    "    df_PV.set_index('Date', inplace=True)\n",
    "    \n",
    "    for manifold_name in manifold_names.keys():\n",
    "        fig, ax = plt.subplots(figsize=(20, 10))\n",
    "        models = list(filter(lambda t: manifold_names[manifold_name] in t, \n",
    "                             df_PV.columns.tolist()))\n",
    "        \n",
    "        marker = get_marker(manifold_name)\n",
    "        df_PV[models].plot(ax=ax, linestyle='--', linewidth=1, \n",
    "                           marker=marker, markersize=2, alpha=.7)\n",
    "        plt.axhline(1e7, color='grey', linestyle='--', alpha=.7)\n",
    "        plt.title(f'Portfolio Value on the {data_name} Dataset - {manifold_name.title()}')\n",
    "        plt.legend(loc='upper left', ncol=1)\n",
    "        plt.xlim([0, df_PV.shape[0]])\n",
    "        plt.savefig(f'./results/investment/Investment_on_{data_name}_dataset_{manifold_name}.png')\n",
    "        plt.close()\n",
    "        \n",
    "    fig, ax = plt.subplots(figsize=(20, 10))\n",
    "    for manifold_name in manifold_names.keys():\n",
    "        models = list(filter(lambda t: manifold_names[manifold_name] in t, \n",
    "                                    df_PV.columns.tolist()))\n",
    "        marker = get_marker(manifold_name)\n",
    "        df_PV[models].plot(ax=ax, linestyle='--', linewidth=1, \n",
    "                           marker=marker, markersize=2, alpha=.7)\n",
    "        \n",
    "    plt.title(f'Portfolio Value on the {data_name} Dataset')\n",
    "    plt.axhline(1e7, color='grey', linestyle='--', alpha=.7)\n",
    "    plt.legend(loc='upper left', ncol=3)\n",
    "    plt.xlim([0, df_PV.shape[0]])\n",
    "    plt.tight_layout()\n",
    "    plt.savefig(f'./results/investment/Investment_on_{data_name}_dataset_all.png')\n",
    "    plt.close()"
   ]
  },
  {
   "cell_type": "code",
   "execution_count": 17,
   "id": "d07bc1cf",
   "metadata": {
    "ExecuteTime": {
     "end_time": "2022-12-12T17:28:54.586482Z",
     "start_time": "2022-12-12T17:28:53.024131Z"
    },
    "scrolled": true
   },
   "outputs": [],
   "source": [
    "viz_investment_performance('valid')\n",
    "viz_investment_performance('test')"
   ]
  },
  {
   "cell_type": "code",
   "execution_count": null,
   "id": "04f6a95a",
   "metadata": {},
   "outputs": [],
   "source": []
  }
 ],
 "metadata": {
  "kernelspec": {
   "display_name": "GM4HDDA",
   "language": "python",
   "name": "gm4hdda"
  },
  "language_info": {
   "codemirror_mode": {
    "name": "ipython",
    "version": 3
   },
   "file_extension": ".py",
   "mimetype": "text/x-python",
   "name": "python",
   "nbconvert_exporter": "python",
   "pygments_lexer": "ipython3",
   "version": "3.7.15"
  },
  "toc": {
   "base_numbering": 1,
   "nav_menu": {},
   "number_sections": true,
   "sideBar": true,
   "skip_h1_title": false,
   "title_cell": "Table of Contents",
   "title_sidebar": "Contents",
   "toc_cell": false,
   "toc_position": {},
   "toc_section_display": true,
   "toc_window_display": false
  }
 },
 "nbformat": 4,
 "nbformat_minor": 5
}
