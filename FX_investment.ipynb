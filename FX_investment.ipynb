{
 "cells": [
  {
   "cell_type": "code",
   "execution_count": 1,
   "id": "bd61396b",
   "metadata": {
    "ExecuteTime": {
     "end_time": "2022-12-13T16:10:22.207540Z",
     "start_time": "2022-12-13T16:10:22.186535Z"
    }
   },
   "outputs": [],
   "source": [
    "base_dir = './'\n",
    "fig_dir = './figures/'\n",
    "model_dir = './results/trained_encoder/'"
   ]
  },
  {
   "cell_type": "code",
   "execution_count": 2,
   "id": "af0c8166",
   "metadata": {
    "ExecuteTime": {
     "end_time": "2022-12-13T16:10:22.223545Z",
     "start_time": "2022-12-13T16:10:22.208540Z"
    }
   },
   "outputs": [],
   "source": [
    "import os\n",
    "import sys\n",
    "\n",
    "sys.path.insert(0, os.getcwd() + '\\\\src')"
   ]
  },
  {
   "cell_type": "code",
   "execution_count": 3,
   "id": "b3a34546",
   "metadata": {
    "ExecuteTime": {
     "end_time": "2022-12-13T16:10:23.016567Z",
     "start_time": "2022-12-13T16:10:22.224545Z"
    }
   },
   "outputs": [],
   "source": [
    "import numpy as np\n",
    "import pandas as pd\n",
    "import matplotlib.pyplot as plt\n",
    "from tqdm.notebook import trange"
   ]
  },
  {
   "cell_type": "markdown",
   "id": "7a5a6268",
   "metadata": {},
   "source": [
    "---"
   ]
  },
  {
   "cell_type": "code",
   "execution_count": 4,
   "id": "4ee2d92c",
   "metadata": {
    "ExecuteTime": {
     "end_time": "2022-12-13T16:10:23.856750Z",
     "start_time": "2022-12-13T16:10:23.018560Z"
    }
   },
   "outputs": [],
   "source": [
    "import torch\n",
    "import torch.nn as nn\n",
    "import torch.nn.functional as F"
   ]
  },
  {
   "cell_type": "code",
   "execution_count": 5,
   "id": "38d4b74e",
   "metadata": {
    "ExecuteTime": {
     "end_time": "2022-12-13T16:10:23.888757Z",
     "start_time": "2022-12-13T16:10:23.857750Z"
    }
   },
   "outputs": [
    {
     "name": "stdout",
     "output_type": "stream",
     "text": [
      "CUDA available : True\n"
     ]
    }
   ],
   "source": [
    "print('CUDA available :', torch.cuda.is_available())\n",
    "# device = torch.device('cpu')\n",
    "device = torch.device('cuda')"
   ]
  },
  {
   "cell_type": "code",
   "execution_count": 6,
   "id": "1f412ba6",
   "metadata": {
    "ExecuteTime": {
     "end_time": "2022-12-13T16:10:23.936767Z",
     "start_time": "2022-12-13T16:10:23.889757Z"
    }
   },
   "outputs": [],
   "source": [
    "n_timestamps = 5\n",
    "lag = 1\n",
    "\n",
    "data_dir = f'./data/n_timestamps_{n_timestamps}__lag_{lag}/' + 'data_split.pt'\n",
    "\n",
    "data_split = torch.load(data_dir)\n",
    "train_data, train_pos_enc, train_dates = data_split['train'].values()\n",
    "valid_data, valid_pos_enc, valid_dates = data_split['valid'].values()\n",
    "test_data, test_pos_enc, test_dates = data_split['test'].values()\n",
    "\n",
    "# Concat Date Positional Encoding\n",
    "X_train = torch.cat((train_data, train_pos_enc), dim=-1)\n",
    "X_valid = torch.cat((valid_data, valid_pos_enc), dim=-1)\n",
    "X_test = torch.cat((test_data, test_pos_enc), dim=-1)\n",
    "\n",
    "# Get currency names\n",
    "currency_names = pd.read_csv(f'./data/n_timestamps_{n_timestamps}__lag_{lag}/cleansed_data.csv').columns.tolist()\n",
    "\n",
    "del data_split"
   ]
  },
  {
   "cell_type": "code",
   "execution_count": 7,
   "id": "ebf7f508",
   "metadata": {
    "ExecuteTime": {
     "end_time": "2022-12-13T16:10:23.952771Z",
     "start_time": "2022-12-13T16:10:23.937767Z"
    }
   },
   "outputs": [
    {
     "name": "stdout",
     "output_type": "stream",
     "text": [
      "Data shape : (*, 5, 36)\n",
      "    - Train : 2002-01-08 ~ 2015-05-07 (3412, 63.99%)\n",
      "    - Valid : 2015-05-08 ~ 2018-09-03 ( 853, 16.00%)\n",
      "    - Test  : 2018-09-04 ~ 2022-10-31 (1067, 20.01%)\n"
     ]
    }
   ],
   "source": [
    "N = X_train.shape[0] + X_valid.shape[0] + X_test.shape[0]\n",
    "_, T, D = X_train.shape\n",
    "print(f'Data shape : (*, {T}, {D})')\n",
    "print(f'    - Train : {train_dates[0]} ~ {train_dates[-1]} ({X_train.__len__():>4d}, {X_train.__len__()/N*100:.2f}%)')\n",
    "print(f'    - Valid : {valid_dates[0]} ~ {valid_dates[-1]} ({X_valid.__len__():>4d}, {X_valid.__len__()/N*100:.2f}%)')\n",
    "print(f'    - Test  : {test_dates[0]} ~ {test_dates[-1]} ({X_test.__len__():>4d}, {X_test.__len__()/N*100:.2f}%)')"
   ]
  },
  {
   "cell_type": "markdown",
   "id": "8b4d3409",
   "metadata": {},
   "source": [
    "---"
   ]
  },
  {
   "cell_type": "markdown",
   "id": "e16502c8",
   "metadata": {},
   "source": [
    "# Training Investment Module"
   ]
  },
  {
   "cell_type": "code",
   "execution_count": 8,
   "id": "fc8115c5",
   "metadata": {
    "ExecuteTime": {
     "end_time": "2022-12-13T16:10:23.984778Z",
     "start_time": "2022-12-13T16:10:23.953771Z"
    }
   },
   "outputs": [],
   "source": [
    "from encoder import Encoder\n",
    "from investment import Investment\n",
    "from itertools import product"
   ]
  },
  {
   "cell_type": "code",
   "execution_count": 9,
   "id": "707ad86d",
   "metadata": {
    "ExecuteTime": {
     "end_time": "2022-12-13T16:10:24.000782Z",
     "start_time": "2022-12-13T16:10:23.985778Z"
    }
   },
   "outputs": [],
   "source": [
    "manifold_names = {'euclidean':'Euclidean', \n",
    "                  'p_plane':'Poincare-Halfplane', \n",
    "                  'sphere':'Hypersphere'}"
   ]
  },
  {
   "cell_type": "markdown",
   "id": "a7d4568b",
   "metadata": {},
   "source": [
    "- Training"
   ]
  },
  {
   "cell_type": "code",
   "execution_count": 10,
   "id": "7247f2fc",
   "metadata": {
    "ExecuteTime": {
     "end_time": "2022-12-13T16:10:24.016785Z",
     "start_time": "2022-12-13T16:10:24.003784Z"
    }
   },
   "outputs": [],
   "source": [
    "dim_data = (T, D)\n",
    "layer_configs = {}\n",
    "\n",
    "candidates = list(product(['sphere', 'p_plane', 'euclidean'], \n",
    "                          list(range(16, 37))))"
   ]
  },
  {
   "cell_type": "code",
   "execution_count": 11,
   "id": "56be9a86",
   "metadata": {
    "ExecuteTime": {
     "end_time": "2022-12-13T16:10:24.032789Z",
     "start_time": "2022-12-13T16:10:24.017786Z"
    },
    "scrolled": true
   },
   "outputs": [],
   "source": [
    "# for target_manifold, dim_embedding in candidates:\n",
    "#     print('target_manifold :', target_manifold, ', dim_embedding :', dim_embedding)\n",
    "#     model_name = '_'.join([manifold_names[target_manifold], f'dim-{dim_embedding}'])\n",
    "    \n",
    "#     best_ckpt = torch.load(model_dir +'best/' + model_name + '_best.pt')\n",
    "    \n",
    "#     model = Encoder(dim_data, dim_embedding, target_manifold=target_manifold,\n",
    "#                     layer_configs=layer_configs, device=device)\n",
    "#     model.load_state_dict(best_ckpt['state_dict'])\n",
    "    \n",
    "#     investment = Investment(model, num_currencies=D-2)\n",
    "#     investment.fit(X_train, X_valid, 500, 60, save_name=model_name + '_investment.pt')"
   ]
  },
  {
   "cell_type": "markdown",
   "id": "d4c71507",
   "metadata": {},
   "source": [
    "- Evaluation"
   ]
  },
  {
   "cell_type": "code",
   "execution_count": 12,
   "id": "6a1dd96f",
   "metadata": {
    "ExecuteTime": {
     "end_time": "2022-12-13T16:10:24.048792Z",
     "start_time": "2022-12-13T16:10:24.033789Z"
    }
   },
   "outputs": [],
   "source": [
    "def investment_on_dataset(data, target_manifold, dim_embedding,\n",
    "                          ckpt='best', portfolio_as=None, dates=None):\n",
    "    \n",
    "    model_name = '_'.join([manifold_names[target_manifold], f'dim-{dim_embedding}'])\n",
    "    ckpt = torch.load(model_dir +f'{ckpt}/' + model_name + f'_{ckpt}.pt')\n",
    "    \n",
    "    model = Encoder(dim_data, dim_embedding, target_manifold=target_manifold,\n",
    "                    layer_configs=layer_configs, device=device)\n",
    "    model.load_state_dict(ckpt['state_dict'])\n",
    "\n",
    "    investment = Investment(model, num_currencies=D-2)\n",
    "    investment.rebalance.load_state_dict(torch.load('./results/investment/models/'+model_name+'_investment.pt'))\n",
    "    investment.rebalance.eval()\n",
    "\n",
    "    neg_sharpe_ratio, position_values, portfolios = investment._trade(data)\n",
    "    sharpe_ratio = - neg_sharpe_ratio.item()\n",
    "    \n",
    "    if portfolio_as == 'dataframe':\n",
    "        assert dates is not None, '\"dates\" is required.'\n",
    "        portfolios = pd.DataFrame(portfolios.detach().cpu().numpy(), \n",
    "                                     index=dates[1:], \n",
    "                                     columns = ['USD'] + currency_names\n",
    "                                    )\n",
    "        portfolios.index.name = 'Date'\n",
    "        portfolios.index = pd.to_datetime(portfolios.index)\n",
    "        \n",
    "    return sharpe_ratio, position_values.detach().cpu(), portfolios"
   ]
  },
  {
   "cell_type": "code",
   "execution_count": 13,
   "id": "847655e4",
   "metadata": {
    "ExecuteTime": {
     "end_time": "2022-12-13T16:10:24.064796Z",
     "start_time": "2022-12-13T16:10:24.049793Z"
    }
   },
   "outputs": [],
   "source": [
    "def eval_investment_by_model(candidates, data_type):\n",
    "    try:\n",
    "        PV_by_model = torch.load(f'./results/investment/portfolio_values_on_{data_type}.pt')\n",
    "    except:\n",
    "        dim_data = (T, D)\n",
    "        layer_configs = {}\n",
    "        if data_type == 'valid':\n",
    "            data = X_valid\n",
    "            dates = valid_dates\n",
    "        elif data_type == 'test':\n",
    "            data = X_test\n",
    "            dates = test_dates\n",
    "        else:\n",
    "            raise ValueError(f'Unknown value for \"data_type\" : {data_type}')\n",
    "        \n",
    "        PV_by_model = {'Date':dates}\n",
    "        PFO_by_model = {'Date':dates}\n",
    "\n",
    "        for target_manifold, dim_embedding in candidates:\n",
    "            model_name = '_'.join([manifold_names[target_manifold], f'dim-{dim_embedding}'])\n",
    "            SR, PV, PFO = investment_on_dataset(data, target_manifold, dim_embedding,\n",
    "                                                ckpt='best', portfolio_as='dataframe', dates=dates\n",
    "                                                                 )\n",
    "            PV_by_model[model_name] = PV.tolist()\n",
    "            PFO_by_model[model_name] = PFO\n",
    "\n",
    "        torch.save(PV_by_model, f'./results/investment/portfolio_values_on_{data_type}.pt')\n",
    "        \n",
    "    return PV_by_model, PFO_by_model"
   ]
  },
  {
   "cell_type": "code",
   "execution_count": 14,
   "id": "50c6e611",
   "metadata": {
    "ExecuteTime": {
     "end_time": "2022-12-13T16:10:24.096803Z",
     "start_time": "2022-12-13T16:10:24.065796Z"
    },
    "scrolled": true
   },
   "outputs": [],
   "source": [
    "try:\n",
    "    PV_valid_by_model = torch.load('./results/investment/portfolio_values_on_valid.pt')\n",
    "except:\n",
    "    PV_valid_by_model, PFO_valid_by_model = eval_investment_by_model(candidates, 'valid')\n",
    "    \n",
    "    torch.save(PV_valid_by_model, './results/investment/portfolio_values_on_valid.pt')\n",
    "    \n",
    "try:\n",
    "    PV_test_by_model = torch.load('./results/investment/portfolio_values_on_test.pt')\n",
    "except:\n",
    "    PV_test_by_model, PFO_test_by_model = eval_investment_by_model(candidates, 'test')\n",
    "    \n",
    "    torch.save(PV_test_by_model, './results/investment/portfolio_values_on_test.pt')"
   ]
  },
  {
   "cell_type": "code",
   "execution_count": 15,
   "id": "c73b7471",
   "metadata": {
    "ExecuteTime": {
     "end_time": "2022-12-13T16:10:24.112807Z",
     "start_time": "2022-12-13T16:10:24.097804Z"
    }
   },
   "outputs": [],
   "source": [
    "def get_marker(manifold_name):\n",
    "    if manifold_name == 'sphere':\n",
    "        marker = 'o'\n",
    "    elif manifold_name == 'euclidean':\n",
    "        marker = 's'\n",
    "    else:\n",
    "        marker = 'v'\n",
    "    return marker"
   ]
  },
  {
   "cell_type": "code",
   "execution_count": 16,
   "id": "1b010d64",
   "metadata": {
    "ExecuteTime": {
     "end_time": "2022-12-13T16:10:24.128799Z",
     "start_time": "2022-12-13T16:10:24.113807Z"
    }
   },
   "outputs": [],
   "source": [
    "def viz_portfolio_value(data_type):\n",
    "    if data_type == 'valid':\n",
    "        data_name = 'Validation'\n",
    "        PV_by_model = PV_valid_by_model\n",
    "    elif data_type == 'test':\n",
    "        data_name = 'Test'\n",
    "        PV_by_model = PV_test_by_model\n",
    "    else:\n",
    "        raise ValueError(f'Unknown value for \"data_type\" : {data_type}')\n",
    "        \n",
    "    df_PV = pd.DataFrame(PV_by_model)\n",
    "    df_PV.set_index('Date', inplace=True)\n",
    "    \n",
    "    for manifold_name in manifold_names.keys():\n",
    "        fig, ax = plt.subplots(figsize=(20, 10))\n",
    "        models = list(filter(lambda t: manifold_names[manifold_name] in t, \n",
    "                             df_PV.columns.tolist()))\n",
    "        \n",
    "        marker = get_marker(manifold_name)\n",
    "        df_PV[models].plot(ax=ax, linestyle='--', linewidth=1, \n",
    "                           marker=marker, markersize=2, alpha=.7)\n",
    "        plt.axhline(1e7, color='grey', linestyle='--', alpha=.7)\n",
    "        plt.title(f'Portfolio Values - {manifold_names[manifold_name].title()} ({data_name})')\n",
    "        plt.legend(loc='upper left', ncol=1)\n",
    "        plt.xlim([0, df_PV.shape[0]])\n",
    "        plt.savefig(f'./results/investment/figures_inv/portfolio_values_on_{data_name}_dataset_{manifold_name}.png')\n",
    "        plt.close()\n",
    "        \n",
    "    fig, ax = plt.subplots(figsize=(20, 10))\n",
    "    for manifold_name in manifold_names.keys():\n",
    "        models = list(filter(lambda t: manifold_names[manifold_name] in t, \n",
    "                                    df_PV.columns.tolist()))\n",
    "        marker = get_marker(manifold_name)\n",
    "        df_PV[models].plot(ax=ax, linestyle='--', linewidth=1, \n",
    "                           marker=marker, markersize=2, alpha=.7)\n",
    "        \n",
    "    plt.title(f'Portfolio Value ({data_name})')\n",
    "    plt.axhline(1e7, color='grey', linestyle='--', alpha=.7)\n",
    "    plt.legend(loc='upper left', ncol=3)\n",
    "    plt.xlim([0, df_PV.shape[0]])\n",
    "    plt.tight_layout()\n",
    "    plt.savefig(f'./results/investment/figures_inv/portfolio_values_on_{data_name}_dataset_all.png')\n",
    "    plt.close()\n",
    "    \n",
    "    df_PV.to_csv(f'./results/investment/portfolio_values_on_{data_type}.csv')"
   ]
  },
  {
   "cell_type": "code",
   "execution_count": 17,
   "id": "d07bc1cf",
   "metadata": {
    "ExecuteTime": {
     "end_time": "2022-12-13T16:10:27.657594Z",
     "start_time": "2022-12-13T16:10:24.129800Z"
    },
    "scrolled": true
   },
   "outputs": [],
   "source": [
    "viz_portfolio_value('valid')\n",
    "viz_portfolio_value('test')"
   ]
  },
  {
   "cell_type": "markdown",
   "id": "7f8c2fe4",
   "metadata": {},
   "source": [
    "---\n",
    "\n",
    "# Investment Performance"
   ]
  },
  {
   "cell_type": "code",
   "execution_count": 18,
   "id": "04f6a95a",
   "metadata": {
    "ExecuteTime": {
     "end_time": "2022-12-13T16:10:27.689614Z",
     "start_time": "2022-12-13T16:10:27.658595Z"
    }
   },
   "outputs": [],
   "source": [
    "PV_by_model_valid = pd.read_csv('./results/investment/portfolio_values_on_valid.csv')\n",
    "PV_by_model_test = pd.read_csv('./results/investment/portfolio_values_on_test.csv')"
   ]
  },
  {
   "cell_type": "code",
   "execution_count": 19,
   "id": "00fedee3",
   "metadata": {
    "ExecuteTime": {
     "end_time": "2022-12-13T16:10:27.705621Z",
     "start_time": "2022-12-13T16:10:27.690614Z"
    }
   },
   "outputs": [],
   "source": [
    "def performance_measure(PV):\n",
    "    PV = PV.set_index('Date')\n",
    "    perf = pd.DataFrame(index=PV.columns.tolist())\n",
    "    perf.index.name = 'Model'\n",
    "\n",
    "    T = PV.shape[0]\n",
    "\n",
    "    daily_return = (PV.diff(1) / PV).dropna().values\n",
    "\n",
    "    # Holding Period Return\n",
    "    perf['HPR'] = PV.values[-1] / PV.values[0] - 1\n",
    "    # Sharpe Ratio\n",
    "    perf['SR'] = daily_return.mean(axis=0) / daily_return.std(axis=0)\n",
    "    # \n",
    "    n_neg_return = (daily_return < 0).sum(axis=0)\n",
    "    neg_mean = (daily_return * (daily_return < 0)).sum(axis=0) / n_neg_return\n",
    "    neg_var = (((daily_return - neg_mean.reshape(1, -1)) * (daily_return < 0)) ** 2).sum(axis=0)  / (n_neg_return-1)\n",
    "    perf['SoR'] = daily_return.mean(axis=0) / np.sqrt(neg_var)\n",
    "\n",
    "    perf['MDD'] = -(PV.cummax() / PV - 1).max()\n",
    "    \n",
    "    perf['Manifold'] = perf.index.map(lambda mn: mn.split('_')[0])\n",
    "    perf['Dimension'] = perf.index.map(lambda mn: int(mn.split('_')[1].split('-')[-1]))\n",
    "    perf.reset_index(drop=True, inplace=True)\n",
    "    perf = perf[['Manifold', 'Dimension', 'HPR', 'SR', 'SoR', 'MDD']]\n",
    "    \n",
    "    return perf"
   ]
  },
  {
   "cell_type": "code",
   "execution_count": 20,
   "id": "0a402324",
   "metadata": {
    "ExecuteTime": {
     "end_time": "2022-12-13T16:10:27.721310Z",
     "start_time": "2022-12-13T16:10:27.706622Z"
    }
   },
   "outputs": [],
   "source": [
    "def viz_performance_measure(perf, data_type):\n",
    "    if data_type == 'valid':\n",
    "        data_name = 'Validation'\n",
    "    elif data_type == 'test':\n",
    "        data_name = 'Test'\n",
    "    else:\n",
    "        raise ValueError(f'Unknown value for \"data_type\" : {data_type}')\n",
    "        \n",
    "    fig, ax = plt.subplots(ncols=3, figsize=(21, 5))\n",
    "    for i, manifold in enumerate(manifold_names.values()):\n",
    "        perf_m = perf.loc[perf.Manifold == manifold]\n",
    "        for meas in ['HPR', 'SR', 'SoR', 'MDD']:\n",
    "            perf_m.plot(x='Dimension', y=meas, ax=ax[i], \n",
    "                        marker='o', ms=3, linestyle='--', linewidth=1)\n",
    "        ax[i].axhline(0, c='grey', alpha=.5)\n",
    "        ax[i].set_title(f'Portfolio Values - {manifold} ({data_name})')\n",
    "        ax[i].set_xticks([16, 20, 24, 28, 32, 36])\n",
    "    fig.savefig(f'./results/investment/figures_inv/performance_measure_on_{data_type}.png')\n",
    "    plt.close()"
   ]
  },
  {
   "cell_type": "code",
   "execution_count": 21,
   "id": "0d9e5685",
   "metadata": {
    "ExecuteTime": {
     "end_time": "2022-12-13T16:10:28.105348Z",
     "start_time": "2022-12-13T16:10:27.722311Z"
    }
   },
   "outputs": [],
   "source": [
    "viz_performance_measure(performance_measure(PV_by_model_valid), 'valid')\n",
    "viz_performance_measure(performance_measure(PV_by_model_test), 'test')"
   ]
  },
  {
   "cell_type": "code",
   "execution_count": null,
   "id": "bf8aa9a3",
   "metadata": {},
   "outputs": [],
   "source": []
  }
 ],
 "metadata": {
  "kernelspec": {
   "display_name": "GM4HDDA",
   "language": "python",
   "name": "gm4hdda"
  },
  "language_info": {
   "codemirror_mode": {
    "name": "ipython",
    "version": 3
   },
   "file_extension": ".py",
   "mimetype": "text/x-python",
   "name": "python",
   "nbconvert_exporter": "python",
   "pygments_lexer": "ipython3",
   "version": "3.7.15"
  },
  "toc": {
   "base_numbering": 1,
   "nav_menu": {},
   "number_sections": true,
   "sideBar": true,
   "skip_h1_title": false,
   "title_cell": "Table of Contents",
   "title_sidebar": "Contents",
   "toc_cell": false,
   "toc_position": {},
   "toc_section_display": true,
   "toc_window_display": false
  }
 },
 "nbformat": 4,
 "nbformat_minor": 5
}
